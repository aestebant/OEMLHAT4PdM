{
 "cells": [
  {
   "cell_type": "markdown",
   "metadata": {},
   "source": [
    "# OEMLHAT - Tutorial of execution\n",
    "\n",
    "This notebook shows an example of execution to declare, use and evaluate a Online Ensemble of Multi-Label Hoeffding Adaptive Tree (`OEMLHAT`) model, together with the 3 predictive maintenance problems presented in this repository and addressed from a multi-label online learning perspective."
   ]
  },
  {
   "cell_type": "markdown",
   "metadata": {},
   "source": [
    "## Defining the execution environment\n",
    "\n",
    "OEMLHAT and its associated experimentation have been programmed in Python language, using mainly the [River](https://riverml.xyz) library for online learning. The complete specification for creating the environment of execution is under the file [environment.yml](environment.yml), that can be used together with [Conda](https://conda.io/projects/conda/en/latest/user-guide/tasks/manage-environments.html#creating-an-environment-from-an-environment-yml-file)."
   ]
  },
  {
   "cell_type": "code",
   "execution_count": null,
   "metadata": {
    "vscode": {
     "languageId": "shellscript"
    }
   },
   "outputs": [],
   "source": [
    "conda env create -f environment.yml"
   ]
  },
  {
   "cell_type": "markdown",
   "metadata": {},
   "source": [
    "## Declaring the learning model\n",
    "\n",
    "Below is shown how an instance of `OEMLHAT` would be initialized with the default parameters:\n",
    "\n",
    "* Number of base trees: `n_models=10`\n",
    "* Percentage of the input feature's space using for subspacing: `subspace_size=0.6`\n",
    "* Parameter $\\lambda$ for the bootsraping process based on the Poisson distribution: `lam=5`\n",
    "\n",
    "And the base tree specific parameters: \n",
    "\n",
    "* Leaf grace period $k_{spl}$: `grace_period=205`.\n",
    "* Significance level in Hoeffding bound for spliting nodes $\\delta_{spl}$: `delta=1e-7`.\n",
    "* Alternate tree grace period $k_{alt}$: `drift_window_threshold=208`.\n",
    "* Significance level in Hoeffdinb bound for switching alternate trees $\\delta_{alt}$: `switch_significance=0.036`.\n",
    "* Cardinality threshold $\\eta$ and number of instance a leaf should observe between split attemps grouped in: `grace_period=750`.\n",
    "* Metric to study the concept drift $e$: `perf_metric=MicroAverage(F1())`.\n",
    "* Low cardinality classifier: `low_card_clf=LabelCombination(KNNClassifier(13))`.\n",
    "* High cardinality classifier: `high_card_clf=BinaryRelevance(BaggingClassifier(LogisticRegression(), n_models=10))`"
   ]
  },
  {
   "cell_type": "code",
   "execution_count": 1,
   "metadata": {},
   "outputs": [
    {
     "data": {
      "text/html": [
       "<div><div class=\"river-component river-wrapper\"><details class=\"river-details\"><summary class=\"river-summary\"><pre class=\"river-estimator-name\">OEMLHAT</pre></summary><code class=\"river-estimator-params\">OEMLHAT (\n",
       "  n_models=10\n",
       "  subspace_size=0.6\n",
       "  lam=5\n",
       "  disable_weighted_vote=False\n",
       "  grace_period=205\n",
       "  delta=3e-07\n",
       "  tau=0.05\n",
       "  cardinality_th=135\n",
       "  entropy_th=0.75\n",
       "  drift_window_threshold=208\n",
       "  perf_metric=MicroAverage(F1): 0.00%\n",
       "  switch_significance=0.036\n",
       "  lc_n_neighbors=13\n",
       "  lc_window_size=140\n",
       "  hc_lr=0.95\n",
       "  seed=1\n",
       "  grouping_features=['Type_H', 'Type_L', 'Type_M']\n",
       ")\n",
       "</code></details><details class=\"river-component river-estimator\"><summary class=\"river-summary\"><pre class=\"river-estimator-name\">MLHAT</pre></summary><code class=\"river-estimator-params\">MLHAT (\n",
       "  grace_period=205\n",
       "  delta=3e-07\n",
       "  drift_window_threshold=208\n",
       "  switch_significance=0.036\n",
       "  cardinality_th=135\n",
       "  poisson_rate=1.\n",
       "  tau=0.05\n",
       "  splitter=GaussianSplitter (\n",
       "    n_splits=10\n",
       "  )\n",
       "  entropy_th=0.75\n",
       "  low_card_clf=LabelCombination\n",
       "  high_card_clf=BinaryRelevance(BaggingClassifier(LogisticRegression))\n",
       "  bootstrap_sampling=False\n",
       "  drift_detector=ADWIN (\n",
       "    delta=0.002\n",
       "    clock=32\n",
       "    max_buckets=5\n",
       "    min_window_length=5\n",
       "    grace_period=10\n",
       "  )\n",
       "  drift_method=\"per labelset\"\n",
       "  perf_metric=MicroAverage(F1): 0.00%\n",
       "  alternate_strategy=\"on warning\"\n",
       "  combined_prediction=True\n",
       "  min_branch_fraction=0.01\n",
       "  max_share_to_split=0.99\n",
       "  nominal_attributes=None\n",
       "  max_depth=inf\n",
       "  max_size=100\n",
       "  memory_estimate_period=1000000\n",
       "  stop_mem_management=False\n",
       "  remove_poor_attrs=False\n",
       "  merit_preprune=True\n",
       "  seed=1\n",
       ")\n",
       "</code></details></div><style scoped>\n",
       ".river-estimator {\n",
       "    padding: 1em;\n",
       "    border-style: solid;\n",
       "    background: white;\n",
       "    max-width: max-content;\n",
       "}\n",
       "\n",
       ".river-pipeline {\n",
       "    display: flex;\n",
       "    flex-direction: column;\n",
       "    align-items: center;\n",
       "    background: linear-gradient(#000, #000) no-repeat center / 1.5px 100%;\n",
       "}\n",
       "\n",
       ".river-union {\n",
       "    display: flex;\n",
       "    flex-direction: row;\n",
       "    align-items: center;\n",
       "    justify-content: center;\n",
       "    padding: 1em;\n",
       "    border-style: solid;\n",
       "    background: white;\n",
       "}\n",
       "\n",
       ".river-wrapper {\n",
       "    display: flex;\n",
       "    flex-direction: column;\n",
       "    align-items: center;\n",
       "    justify-content: center;\n",
       "    padding: 1em;\n",
       "    border-style: solid;\n",
       "    background: white;\n",
       "}\n",
       "\n",
       ".river-wrapper > .river-estimator {\n",
       "    margin-top: 1em;\n",
       "}\n",
       "\n",
       "/* Vertical spacing between steps */\n",
       "\n",
       ".river-component + .river-component {\n",
       "    margin-top: 2em;\n",
       "}\n",
       "\n",
       ".river-union > .river-estimator {\n",
       "    margin-top: 0;\n",
       "}\n",
       "\n",
       ".river-union > .river-component {\n",
       "    margin-top: 0;\n",
       "}\n",
       "\n",
       ".river-union > .pipeline {\n",
       "    margin-top: 0;\n",
       "}\n",
       "\n",
       "/* Spacing within a union of estimators */\n",
       "\n",
       ".river-union > .river-component + .river-component {\n",
       "    margin-left: 1em;\n",
       "}\n",
       "\n",
       "/* Typography */\n",
       "\n",
       ".river-estimator-params {\n",
       "    display: block;\n",
       "    white-space: pre-wrap;\n",
       "    font-size: 110%;\n",
       "    margin-top: 1em;\n",
       "}\n",
       "\n",
       ".river-estimator > .river-estimator-params,\n",
       ".river-wrapper > .river-details > river-estimator-params {\n",
       "    background-color: white !important;\n",
       "}\n",
       "\n",
       ".river-wrapper > .river-details {\n",
       "    margin-bottom: 1em;\n",
       "}\n",
       "\n",
       ".river-estimator-name {\n",
       "    display: inline;\n",
       "    margin: 0;\n",
       "    font-size: 110%;\n",
       "}\n",
       "\n",
       "/* Toggle */\n",
       "\n",
       ".river-summary {\n",
       "    display: flex;\n",
       "    align-items:center;\n",
       "    cursor: pointer;\n",
       "}\n",
       "\n",
       ".river-summary > div {\n",
       "    width: 100%;\n",
       "}\n",
       "</style></div>"
      ],
      "text/plain": [
       "OEMLHAT (\n",
       "  n_models=10\n",
       "  subspace_size=0.6\n",
       "  lam=5\n",
       "  disable_weighted_vote=False\n",
       "  grace_period=205\n",
       "  delta=3e-07\n",
       "  tau=0.05\n",
       "  cardinality_th=135\n",
       "  entropy_th=0.75\n",
       "  drift_window_threshold=208\n",
       "  perf_metric=MicroAverage(F1): 0.00%\n",
       "  switch_significance=0.036\n",
       "  lc_n_neighbors=13\n",
       "  lc_window_size=140\n",
       "  hc_lr=0.95\n",
       "  seed=1\n",
       "  grouping_features=['Type_H', 'Type_L', 'Type_M']\n",
       ")"
      ]
     },
     "execution_count": 1,
     "metadata": {},
     "output_type": "execute_result"
    }
   ],
   "source": [
    "from oemlhat import OEMLHAT\n",
    "\n",
    "model = OEMLHAT(grouping_features=['Type_H', 'Type_L', 'Type_M'])\n",
    "model"
   ]
  },
  {
   "cell_type": "markdown",
   "metadata": {},
   "source": [
    "At the beginning, since no data has been received yet, the model does not have any tree:"
   ]
  },
  {
   "cell_type": "code",
   "execution_count": 9,
   "metadata": {},
   "outputs": [],
   "source": [
    "for tree in model:\n",
    "    display(tree.summary)"
   ]
  },
  {
   "cell_type": "markdown",
   "metadata": {},
   "source": [
    "## Loading the predictive maintenance problem as a data stream\n",
    "\n",
    "This repository allows the use of three public multi-label problems, providing the interface for loading them as streams. Specifically, the three problems are the following:\n",
    "\n",
    "* The **AI4I 2020 Predictive Maintenance Dataset**: A synthetic dataset that reflects real predictive maintenance data encountered in industry. [[Reference]](https://archive.ics.uci.edu/dataset/601/ai4i+2020+predictive+maintenance+dataset).\n",
    "* The **Naval Propulsion System (NPS) Dataset**: Data generated from a sophisticated simulator of a Gas Turbines (GT), mounted on a Frigate characterized by a COmbined Diesel eLectric And Gas (CODLAG) propulsion plant type. [[Reference]](https://archive.ics.uci.edu/dataset/316/condition+based+maintenance+of+naval+propulsion+plants).\n",
    "* The **Alarms Logs in Packaging Industry (ALPI)** dataset consists of a sequence of alarms logged by packaging equipment in an industrial environment. The collection includes data logged by 20 machines, deployed in different plants around the world, from 2019-02-21 to 2020-06-17. There are 154 distinct alarm codes, whose distribution is highly unbalanced. In our implementation, the stream is loaded by machine, and the length of the rolling windows for input and output can be also specified. The machine ID is an integer in [0, 19]. [[Reference]](https://ieee-dataport.org/open-access/alarm-logs-packaging-industry-alpi)."
   ]
  },
  {
   "cell_type": "code",
   "execution_count": 2,
   "metadata": {},
   "outputs": [
    {
     "data": {
      "text/plain": [
       "The AI4I 2020 Predictive Maintenance Dataset is a synthetic dataset that reflects real predictive maintenance data encountered in industry.\n",
       "\n",
       "Source: https://archive.ics.uci.edu/ml/datasets/AI4I+2020+Predictive+Maintenance+Dataset\n",
       "\n",
       "      Name  Ai4i                                                                                      \n",
       "      Task  Multi-output binary classification                                                        \n",
       "   Samples  10,000                                                                                    \n",
       "  Features  14                                                                                        \n",
       "   Outputs  5                                                                                         \n",
       "    Sparse  False                                                                                     \n",
       "      Path  /Users/aurora/river_data/Ai4i/ai4i2020.csv                                                \n",
       "       URL  https://archive.ics.uci.edu/static/public/601/ai4i+2020+predictive+maintenance+dataset.zip\n",
       "      Size  509.81 KB                                                                                 \n",
       "Downloaded  True                                                                                      "
      ]
     },
     "execution_count": 2,
     "metadata": {},
     "output_type": "execute_result"
    }
   ],
   "source": [
    "from datasets.multioutput import *\n",
    "\n",
    "stream = Ai4i()\n",
    "stream"
   ]
  },
  {
   "cell_type": "code",
   "execution_count": 1,
   "metadata": {},
   "outputs": [
    {
     "data": {
      "text/plain": [
       "Condition Based Maintenance of Naval Propulsion Plants. Data have been generated from a sophisticated simulator of a Gas Turbines (GT), mounted on a Frigate characterized by a COmbined Diesel eLectric And Gas (CODLAG) propulsion plant type.\n",
       "\n",
       "Source: https://archive.ics.uci.edu/dataset/316/condition+based+maintenance+of+naval+propulsion+plants\n",
       "\n",
       "    Name  NPS                                                                \n",
       "    Task  Multi-output binary classification                                 \n",
       " Samples  65,473                                                             \n",
       "Features  23                                                                 \n",
       " Outputs  4                                                                  \n",
       "  Sparse  False                                                              \n",
       "    Path  /Users/aurora/git/OEMLHAT4PdM/src/datasets/multioutput/nps_sp15.csv"
      ]
     },
     "execution_count": 1,
     "metadata": {},
     "output_type": "execute_result"
    }
   ],
   "source": [
    "from datasets.multioutput import *\n",
    "\n",
    "stream = NPS()\n",
    "stream"
   ]
  },
  {
   "cell_type": "code",
   "execution_count": 1,
   "metadata": {},
   "outputs": [
    {
     "data": {
      "text/plain": [
       "The Alarms Logs in Packaging Industry (ALPI) dataset consists of a sequence of alarms logged by packaging equipment in an industrial environment. The collection includes data logged by 20 machines, deployed in different plants around the world, from 2019-02-21 to 2020-06-17. There are 154 distinct alarm codes, whose distribution is highly unbalanced.\n",
       "\n",
       "Source: https://ieee-dataport.org/open-access/alarm-logs-packaging-industry-alpi\n",
       "\n",
       "Parameters:\n",
       "- machine: serial number of the machine to use, that can take numeric values from 0 to 19.\n",
       "- input_win: size of the input window in number of entries.\n",
       "- output_win: size of the output window in number of entries.\n",
       "- delta: time difference between the end of the input window and the start of the output window, in number of entries.\n",
       "- sigma: stride between consecutive input windows, in number of entries.\n",
       "\n",
       "    Name  Alpi                                                           \n",
       "    Task  Multi-output binary classification                             \n",
       " Samples  2,669                                                          \n",
       "Features  62                                                             \n",
       " Outputs  58                                                             \n",
       "  Sparse  False                                                          \n",
       "    Path  /Users/aurora/git/OEMLHAT4PdM/src/datasets/multioutput/alpi.csv"
      ]
     },
     "execution_count": 1,
     "metadata": {},
     "output_type": "execute_result"
    }
   ],
   "source": [
    "from datasets.multioutput import *\n",
    "\n",
    "stream = Alpi(machine=0)\n",
    "stream"
   ]
  },
  {
   "cell_type": "markdown",
   "metadata": {},
   "source": [
    "### Access to the stream\n",
    "\n",
    "Using Python iterators one can access to the stream sample-by-sample. Both input and multi-label output are provided in a dictonary-based format."
   ]
  },
  {
   "cell_type": "code",
   "execution_count": 5,
   "metadata": {},
   "outputs": [
    {
     "data": {
      "text/plain": [
       "{'Type': 'M',\n",
       " 'Air temperature [K]': 298.1,\n",
       " 'Process temperature [K]': 308.6,\n",
       " 'Rotational speed [rpm]': 1551.0,\n",
       " 'Torque [Nm]': 42.8,\n",
       " 'Tool wear [min]': 0.0}"
      ]
     },
     "execution_count": 5,
     "metadata": {},
     "output_type": "execute_result"
    }
   ],
   "source": [
    "# Using Ai4i as data stream\n",
    "\n",
    "x, y = next(iter(stream))\n",
    "x"
   ]
  },
  {
   "cell_type": "code",
   "execution_count": 4,
   "metadata": {},
   "outputs": [
    {
     "data": {
      "text/plain": [
       "{'TWF': False, 'HDF': False, 'PWF': False, 'OSF': False, 'RNF': False}"
      ]
     },
     "execution_count": 4,
     "metadata": {},
     "output_type": "execute_result"
    }
   ],
   "source": [
    "y"
   ]
  },
  {
   "cell_type": "markdown",
   "metadata": {},
   "source": [
    "## Runing the model\n",
    "\n",
    "Prequential evaluation is the canonical form of asses the performance of an model in an data stream scenario. This evaluation framework allows to check the performance of the model at each step of the stream and how well it adapts to the concept drift. Then, it passes the sample with the corresponding learning target to the model to train it incrementally.\n",
    "\n",
    "The code below allows to apply prequential evaluation to OEMLHAT by measuring its performance every 100 steps in the data stream of the AI4I dataset."
   ]
  },
  {
   "cell_type": "code",
   "execution_count": 4,
   "metadata": {},
   "outputs": [
    {
     "name": "stdout",
     "output_type": "stream",
     "text": [
      "[100] ExactMatch: 0.00%\n",
      "MacroAverage(F1): 100.00%\n",
      "MicroAverage(F1): 0.00% – 4.56 MB\n",
      "[200] ExactMatch: 100.00%\n",
      "MacroAverage(F1): 0.00%\n",
      "MicroAverage(F1): 0.00% – 4.72 MB\n",
      "[300] ExactMatch: 95.24%\n",
      "MacroAverage(F1): 0.00%\n",
      "MicroAverage(F1): 0.00% – 4.97 MB\n",
      "[400] ExactMatch: 97.07%\n",
      "MacroAverage(F1): 10.00%\n",
      "MicroAverage(F1): 25.00% – 4.97 MB\n",
      "[500] ExactMatch: 97.70%\n",
      "MacroAverage(F1): 11.43%\n",
      "MicroAverage(F1): 36.36% – 4.99 MB\n",
      "[600] ExactMatch: 98.02%\n",
      "MacroAverage(F1): 11.43%\n",
      "MicroAverage(F1): 33.33% – 5.19 MB\n",
      "[700] ExactMatch: 98.22%\n",
      "MacroAverage(F1): 10.00%\n",
      "MicroAverage(F1): 30.77% – 5.02 MB\n",
      "[800] ExactMatch: 98.35%\n",
      "MacroAverage(F1): 10.00%\n",
      "MicroAverage(F1): 28.57% – 5.04 MB\n",
      "[900] ExactMatch: 98.44%\n",
      "MacroAverage(F1): 10.91%\n",
      "MicroAverage(F1): 35.29% – 4.85 MB\n",
      "[1,000] ExactMatch: 98.39%\n",
      "MacroAverage(F1): 10.00%\n",
      "MicroAverage(F1): 31.58% – 4.66 MB\n",
      "[1,100] ExactMatch: 98.01%\n",
      "MacroAverage(F1): 8.57%\n",
      "MicroAverage(F1): 25.00% – 5.04 MB\n",
      "[1,200] ExactMatch: 97.61%\n",
      "MacroAverage(F1): 7.06%\n",
      "MicroAverage(F1): 20.00% – 3.98 MB\n",
      "[1,300] ExactMatch: 97.56%\n",
      "MacroAverage(F1): 6.67%\n",
      "MicroAverage(F1): 18.18% – 4.07 MB\n",
      "[1,400] ExactMatch: 97.34%\n",
      "MacroAverage(F1): 8.35%\n",
      "MicroAverage(F1): 19.51% – 4.19 MB\n",
      "[1,500] ExactMatch: 97.32%\n",
      "MacroAverage(F1): 7.56%\n",
      "MicroAverage(F1): 17.78% – 4.2 MB\n",
      "[1,600] ExactMatch: 97.30%\n",
      "MacroAverage(F1): 7.36%\n",
      "MicroAverage(F1): 16.67% – 4.23 MB\n",
      "[1,700] ExactMatch: 97.41%\n",
      "MacroAverage(F1): 7.36%\n",
      "MicroAverage(F1): 16.33% – 4.04 MB\n",
      "[1,800] ExactMatch: 97.32%\n",
      "MacroAverage(F1): 6.90%\n",
      "MicroAverage(F1): 15.09% – 5.61 MB\n",
      "[1,900] ExactMatch: 97.36%\n",
      "MacroAverage(F1): 6.62%\n",
      "MicroAverage(F1): 14.55% – 5.98 MB\n",
      "[2,000] ExactMatch: 97.45%\n",
      "MacroAverage(F1): 6.62%\n",
      "MicroAverage(F1): 14.29% – 6.27 MB\n",
      "[2,100] ExactMatch: 97.43%\n",
      "MacroAverage(F1): 6.35%\n",
      "MicroAverage(F1): 13.56% – 6.37 MB\n",
      "[2,200] ExactMatch: 97.46%\n",
      "MacroAverage(F1): 6.18%\n",
      "MicroAverage(F1): 13.11% – 6.46 MB\n",
      "[2,300] ExactMatch: 97.43%\n",
      "MacroAverage(F1): 5.88%\n",
      "MicroAverage(F1): 12.50% – 6.51 MB\n",
      "[2,400] ExactMatch: 97.46%\n",
      "MacroAverage(F1): 5.74%\n",
      "MicroAverage(F1): 12.12% – 5.97 MB\n",
      "[2,500] ExactMatch: 97.44%\n",
      "MacroAverage(F1): 5.41%\n",
      "MicroAverage(F1): 11.59% – 6.64 MB\n",
      "[2,600] ExactMatch: 97.34%\n",
      "MacroAverage(F1): 5.13%\n",
      "MicroAverage(F1): 10.81% – 6.91 MB\n",
      "[2,700] ExactMatch: 97.41%\n",
      "MacroAverage(F1): 5.13%\n",
      "MicroAverage(F1): 10.67% – 6.86 MB\n",
      "[2,800] ExactMatch: 97.47%\n",
      "MacroAverage(F1): 5.08%\n",
      "MicroAverage(F1): 10.53% – 6.88 MB\n",
      "[2,900] ExactMatch: 97.45%\n",
      "MacroAverage(F1): 4.93%\n",
      "MicroAverage(F1): 10.13% – 6.76 MB\n",
      "[3,000] ExactMatch: 97.50%\n",
      "MacroAverage(F1): 4.93%\n",
      "MicroAverage(F1): 10.00% – 6.3 MB\n",
      "[3,100] ExactMatch: 97.49%\n",
      "MacroAverage(F1): 4.78%\n",
      "MicroAverage(F1): 9.64% – 6.93 MB\n",
      "[3,200] ExactMatch: 97.54%\n",
      "MacroAverage(F1): 4.68%\n",
      "MicroAverage(F1): 9.52% – 6.33 MB\n",
      "[3,300] ExactMatch: 97.55%\n",
      "MacroAverage(F1): 4.64%\n",
      "MicroAverage(F1): 9.30% – 6.51 MB\n",
      "[3,400] ExactMatch: 97.54%\n",
      "MacroAverage(F1): 4.48%\n",
      "MicroAverage(F1): 8.99% – 6.72 MB\n",
      "[3,500] ExactMatch: 97.55%\n",
      "MacroAverage(F1): 4.39%\n",
      "MicroAverage(F1): 8.79% – 6.54 MB\n",
      "[3,600] ExactMatch: 97.53%\n",
      "MacroAverage(F1): 4.27%\n",
      "MicroAverage(F1): 8.51% – 7.16 MB\n",
      "[3,700] ExactMatch: 97.52%\n",
      "MacroAverage(F1): 4.24%\n",
      "MicroAverage(F1): 8.16% – 7.42 MB\n",
      "[3,800] ExactMatch: 97.50%\n",
      "MacroAverage(F1): 4.24%\n",
      "MicroAverage(F1): 7.92% – 7.91 MB\n",
      "[3,900] ExactMatch: 97.41%\n",
      "MacroAverage(F1): 4.05%\n",
      "MicroAverage(F1): 7.41% – 6.45 MB\n",
      "[4,000] ExactMatch: 97.40%\n",
      "MacroAverage(F1): 3.86%\n",
      "MicroAverage(F1): 7.14% – 6.47 MB\n",
      "[4,100] ExactMatch: 97.21%\n",
      "MacroAverage(F1): 6.70%\n",
      "MicroAverage(F1): 8.06% – 4.92 MB\n",
      "[4,200] ExactMatch: 96.90%\n",
      "MacroAverage(F1): 10.78%\n",
      "MicroAverage(F1): 14.57% – 5.83 MB\n",
      "[4,300] ExactMatch: 96.71%\n",
      "MacroAverage(F1): 13.43%\n",
      "MicroAverage(F1): 22.22% – 5.41 MB\n",
      "[4,400] ExactMatch: 96.53%\n",
      "MacroAverage(F1): 13.03%\n",
      "MicroAverage(F1): 23.12% – 5.59 MB\n",
      "[4,500] ExactMatch: 96.38%\n",
      "MacroAverage(F1): 13.87%\n",
      "MicroAverage(F1): 27.43% – 6.25 MB\n",
      "[4,600] ExactMatch: 96.39%\n",
      "MacroAverage(F1): 14.98%\n",
      "MicroAverage(F1): 32.39% – 6.04 MB\n",
      "[4,700] ExactMatch: 96.36%\n",
      "MacroAverage(F1): 16.02%\n",
      "MicroAverage(F1): 37.23% – 6.04 MB\n",
      "[4,800] ExactMatch: 96.29%\n",
      "MacroAverage(F1): 16.49%\n",
      "MicroAverage(F1): 40.92% – 6.33 MB\n",
      "[4,900] ExactMatch: 96.26%\n",
      "MacroAverage(F1): 16.47%\n",
      "MicroAverage(F1): 41.40% – 6.78 MB\n",
      "[5,000] ExactMatch: 96.21%\n",
      "MacroAverage(F1): 16.28%\n",
      "MicroAverage(F1): 40.62% – 6.96 MB\n",
      "[5,100] ExactMatch: 96.25%\n",
      "MacroAverage(F1): 16.23%\n",
      "MicroAverage(F1): 40.37% – 6.12 MB\n",
      "[5,200] ExactMatch: 96.30%\n",
      "MacroAverage(F1): 16.23%\n",
      "MicroAverage(F1): 40.25% – 5.88 MB\n",
      "[5,300] ExactMatch: 96.36%\n",
      "MacroAverage(F1): 16.22%\n",
      "MicroAverage(F1): 40.12% – 5.92 MB\n",
      "[5,400] ExactMatch: 96.35%\n",
      "MacroAverage(F1): 16.12%\n",
      "MicroAverage(F1): 39.51% – 6.83 MB\n",
      "[5,500] ExactMatch: 96.29%\n",
      "MacroAverage(F1): 16.05%\n",
      "MicroAverage(F1): 38.58% – 6.69 MB\n",
      "[5,600] ExactMatch: 96.32%\n",
      "MacroAverage(F1): 16.05%\n",
      "MicroAverage(F1): 38.35% – 5.94 MB\n",
      "[5,700] ExactMatch: 96.33%\n",
      "MacroAverage(F1): 15.99%\n",
      "MicroAverage(F1): 38.01% – 4.42 MB\n",
      "[5,800] ExactMatch: 96.36%\n",
      "MacroAverage(F1): 15.95%\n",
      "MicroAverage(F1): 37.79% – 4.61 MB\n",
      "[5,900] ExactMatch: 96.42%\n",
      "MacroAverage(F1): 15.95%\n",
      "MicroAverage(F1): 37.79% – 4.62 MB\n",
      "[6,000] ExactMatch: 96.45%\n",
      "MacroAverage(F1): 15.91%\n",
      "MicroAverage(F1): 37.36% – 5.05 MB\n",
      "[6,100] ExactMatch: 96.46%\n",
      "MacroAverage(F1): 15.87%\n",
      "MicroAverage(F1): 37.04% – 5.3 MB\n",
      "[6,200] ExactMatch: 96.45%\n",
      "MacroAverage(F1): 15.82%\n",
      "MicroAverage(F1): 36.62% – 4.91 MB\n",
      "[6,300] ExactMatch: 96.46%\n",
      "MacroAverage(F1): 15.78%\n",
      "MicroAverage(F1): 36.21% – 4.92 MB\n",
      "[6,400] ExactMatch: 96.50%\n",
      "MacroAverage(F1): 15.78%\n",
      "MicroAverage(F1): 36.11% – 4.5 MB\n",
      "[6,500] ExactMatch: 96.53%\n",
      "MacroAverage(F1): 15.77%\n",
      "MicroAverage(F1): 35.91% – 4.9 MB\n",
      "[6,600] ExactMatch: 96.55%\n",
      "MacroAverage(F1): 15.72%\n",
      "MicroAverage(F1): 35.71% – 4.51 MB\n",
      "[6,700] ExactMatch: 96.56%\n",
      "MacroAverage(F1): 15.66%\n",
      "MicroAverage(F1): 35.42% – 4.94 MB\n",
      "[6,800] ExactMatch: 96.58%\n",
      "MacroAverage(F1): 15.64%\n",
      "MicroAverage(F1): 35.23% – 4.74 MB\n",
      "[6,900] ExactMatch: 96.63%\n",
      "MacroAverage(F1): 15.64%\n",
      "MicroAverage(F1): 35.23% – 4.53 MB\n",
      "[7,000] ExactMatch: 96.61%\n",
      "MacroAverage(F1): 15.59%\n",
      "MicroAverage(F1): 34.76% – 4.95 MB\n",
      "[7,100] ExactMatch: 96.61%\n",
      "MacroAverage(F1): 15.54%\n",
      "MicroAverage(F1): 34.39% – 4.96 MB\n",
      "[7,200] ExactMatch: 96.65%\n",
      "MacroAverage(F1): 15.53%\n",
      "MicroAverage(F1): 34.30% – 4.93 MB\n",
      "[7,300] ExactMatch: 96.68%\n",
      "MacroAverage(F1): 15.51%\n",
      "MicroAverage(F1): 34.21% – 4.93 MB\n",
      "[7,400] ExactMatch: 96.72%\n",
      "MacroAverage(F1): 15.51%\n",
      "MicroAverage(F1): 34.21% – 4.63 MB\n",
      "[7,500] ExactMatch: 96.74%\n",
      "MacroAverage(F1): 15.51%\n",
      "MicroAverage(F1): 34.03% – 5.02 MB\n",
      "[7,600] ExactMatch: 96.69%\n",
      "MacroAverage(F1): 15.43%\n",
      "MicroAverage(F1): 33.42% – 5.06 MB\n",
      "[7,700] ExactMatch: 96.71%\n",
      "MacroAverage(F1): 15.42%\n",
      "MicroAverage(F1): 33.25% – 5.09 MB\n",
      "[7,800] ExactMatch: 96.71%\n",
      "MacroAverage(F1): 15.39%\n",
      "MicroAverage(F1): 32.99% – 5.12 MB\n",
      "[7,900] ExactMatch: 96.72%\n",
      "MacroAverage(F1): 15.37%\n",
      "MicroAverage(F1): 32.75% – 4.93 MB\n",
      "[8,000] ExactMatch: 96.73%\n",
      "MacroAverage(F1): 15.35%\n",
      "MicroAverage(F1): 32.58% – 5.11 MB\n",
      "[8,100] ExactMatch: 96.76%\n",
      "MacroAverage(F1): 15.34%\n",
      "MicroAverage(F1): 32.50% – 4.74 MB\n",
      "[8,200] ExactMatch: 96.75%\n",
      "MacroAverage(F1): 15.33%\n",
      "MicroAverage(F1): 32.18% – 5.15 MB\n",
      "[8,300] ExactMatch: 96.78%\n",
      "MacroAverage(F1): 15.31%\n",
      "MicroAverage(F1): 32.10% – 4.74 MB\n",
      "[8,400] ExactMatch: 96.78%\n",
      "MacroAverage(F1): 15.28%\n",
      "MicroAverage(F1): 31.86% – 5.34 MB\n",
      "[8,500] ExactMatch: 96.81%\n",
      "MacroAverage(F1): 15.27%\n",
      "MicroAverage(F1): 31.78% – 4.96 MB\n",
      "[8,600] ExactMatch: 96.84%\n",
      "MacroAverage(F1): 15.26%\n",
      "MicroAverage(F1): 31.71% – 4.89 MB\n",
      "[8,700] ExactMatch: 96.84%\n",
      "MacroAverage(F1): 15.25%\n",
      "MicroAverage(F1): 31.48% – 4.89 MB\n",
      "[8,800] ExactMatch: 96.87%\n",
      "MacroAverage(F1): 15.25%\n",
      "MicroAverage(F1): 31.48% – 4.52 MB\n",
      "[8,900] ExactMatch: 96.90%\n",
      "MacroAverage(F1): 15.25%\n",
      "MicroAverage(F1): 31.33% – 4.52 MB\n",
      "[9,000] ExactMatch: 96.92%\n",
      "MacroAverage(F1): 15.23%\n",
      "MicroAverage(F1): 31.18% – 4.66 MB\n",
      "[9,100] ExactMatch: 96.91%\n",
      "MacroAverage(F1): 15.19%\n",
      "MicroAverage(F1): 30.81% – 5.14 MB\n",
      "[9,200] ExactMatch: 96.92%\n",
      "MacroAverage(F1): 15.18%\n",
      "MicroAverage(F1): 30.66% – 5.14 MB\n",
      "[9,300] ExactMatch: 96.96%\n",
      "MacroAverage(F1): 15.18%\n",
      "MicroAverage(F1): 30.66% – 4.73 MB\n",
      "[9,400] ExactMatch: 96.99%\n",
      "MacroAverage(F1): 15.18%\n",
      "MicroAverage(F1): 30.66% – 4.73 MB\n",
      "[9,500] ExactMatch: 97.00%\n",
      "MacroAverage(F1): 15.17%\n",
      "MicroAverage(F1): 30.52% – 5.08 MB\n",
      "[9,600] ExactMatch: 97.02%\n",
      "MacroAverage(F1): 15.17%\n",
      "MicroAverage(F1): 30.44% – 5.1 MB\n",
      "[9,700] ExactMatch: 96.98%\n",
      "MacroAverage(F1): 15.13%\n",
      "MicroAverage(F1): 29.95% – 4.26 MB\n",
      "[9,800] ExactMatch: 96.99%\n",
      "MacroAverage(F1): 15.11%\n",
      "MicroAverage(F1): 29.82% – 4.38 MB\n",
      "[9,900] ExactMatch: 97.00%\n",
      "MacroAverage(F1): 15.11%\n",
      "MicroAverage(F1): 29.68% – 4.18 MB\n",
      "[10,000] ExactMatch: 97.02%\n",
      "MacroAverage(F1): 15.09%\n",
      "MicroAverage(F1): 29.55% – 4.39 MB\n"
     ]
    },
    {
     "data": {
      "text/plain": [
       "ExactMatch: 97.02%\n",
       "MacroAverage(F1): 15.09%\n",
       "MicroAverage(F1): 29.55%"
      ]
     },
     "execution_count": 4,
     "metadata": {},
     "output_type": "execute_result"
    }
   ],
   "source": [
    "import evaluate\n",
    "import numbers\n",
    "from river.compose import SelectType\n",
    "from river.metrics import F1\n",
    "from river.metrics.base import Metrics\n",
    "from river.metrics.multioutput import ExactMatch\n",
    "from river import preprocessing\n",
    "from metrics.multioutput import *\n",
    "\n",
    "pp = SelectType(numbers.Number)\n",
    "pp += SelectType(str) | preprocessing.OneHotEncoder()\n",
    "pipeline = pp | model\n",
    "\n",
    "evaluate.progressive_val_score(dataset=stream, model=pipeline, metric=Metrics([ExactMatch(), MacroAverage(F1()), MicroAverage(F1())]), show_memory=True, print_every=100)"
   ]
  },
  {
   "cell_type": "markdown",
   "metadata": {},
   "source": [
    "## Visualization of results\n",
    "\n",
    "Once OEMLHAT is initialized, there are several ways of visualizing the tree generated for each of the 10 base models that compose the ensemble. With the following code, it can be seen each tree with three different functions:\n",
    "* `summary` provides a summary of the current structure of the tree attending to number of branches and leaves active and pruned.\n",
    "* `to_dataframe()` provides a summary of the current structure of the tree indicating for each node several information related to its stats and configuration.\n",
    "* `draw()` draws the tree graphically, showing per each node the probability of each label."
   ]
  },
  {
   "cell_type": "code",
   "execution_count": 8,
   "metadata": {},
   "outputs": [
    {
     "name": "stdout",
     "output_type": "stream",
     "text": [
      "Tree 0\n"
     ]
    },
    {
     "data": {
      "text/plain": [
       "{'n_nodes': 1,\n",
       " 'n_branches': 0,\n",
       " 'n_leaves': 1,\n",
       " 'n_active_leaves': 1,\n",
       " 'n_inactive_leaves': 0,\n",
       " 'height': 1,\n",
       " 'total_observed_weight': 68866.0,\n",
       " 'n_current_alternate_trees': 0,\n",
       " 'n_pruned_alternate_trees': 5,\n",
       " 'n_switched_alternate_trees': 1}"
      ]
     },
     "metadata": {},
     "output_type": "display_data"
    },
    {
     "data": {
      "text/plain": [
       "None"
      ]
     },
     "metadata": {},
     "output_type": "display_data"
    },
    {
     "data": {
      "image/svg+xml": [
       "<?xml version=\"1.0\" encoding=\"UTF-8\" standalone=\"no\"?>\n",
       "<!DOCTYPE svg PUBLIC \"-//W3C//DTD SVG 1.1//EN\"\n",
       " \"http://www.w3.org/Graphics/SVG/1.1/DTD/svg11.dtd\">\n",
       "<!-- Generated by graphviz version 12.2.0 (20241103.1931)\n",
       " -->\n",
       "<!-- Pages: 1 -->\n",
       "<svg width=\"118pt\" height=\"116pt\"\n",
       " viewBox=\"0.00 0.00 118.40 116.00\" xmlns=\"http://www.w3.org/2000/svg\" xmlns:xlink=\"http://www.w3.org/1999/xlink\">\n",
       "<g id=\"graph0\" class=\"graph\" transform=\"scale(1 1) rotate(0) translate(4 112)\">\n",
       "<polygon fill=\"white\" stroke=\"none\" points=\"-4,4 -4,-112 114.4,-112 114.4,4 -4,4\"/>\n",
       "<!-- 0 -->\n",
       "<g id=\"node1\" class=\"node\">\n",
       "<title>0</title>\n",
       "<polygon fill=\"#f5d0b5\" stroke=\"black\" stroke-width=\"1.2\" points=\"110.4,-108 0,-108 0,0 110.4,0 110.4,-108\"/>\n",
       "<text text-anchor=\"middle\" x=\"55.2\" y=\"-97.55\" font-family=\"trebuchet\" font-size=\"11.00\">Majority LS: []</text>\n",
       "<text text-anchor=\"middle\" x=\"55.2\" y=\"-85.55\" font-family=\"trebuchet\" font-size=\"11.00\">Classifier: adaptive</text>\n",
       "<text text-anchor=\"middle\" x=\"55.2\" y=\"-73.55\" font-family=\"trebuchet\" font-size=\"11.00\">\tP(HDF) = 0.0</text>\n",
       "<text text-anchor=\"middle\" x=\"55.2\" y=\"-61.55\" font-family=\"trebuchet\" font-size=\"11.00\">\tP(OSF) = 0.0</text>\n",
       "<text text-anchor=\"middle\" x=\"55.2\" y=\"-49.55\" font-family=\"trebuchet\" font-size=\"11.00\">\tP(PWF) = 0.0</text>\n",
       "<text text-anchor=\"middle\" x=\"55.2\" y=\"-37.55\" font-family=\"trebuchet\" font-size=\"11.00\">\tP(RNF) = 0.0</text>\n",
       "<text text-anchor=\"middle\" x=\"55.2\" y=\"-25.55\" font-family=\"trebuchet\" font-size=\"11.00\">\tP(TWF) = 0.0</text>\n",
       "<text text-anchor=\"middle\" x=\"55.2\" y=\"-13.55\" font-family=\"trebuchet\" font-size=\"11.00\">\tP(empty) = 1.0</text>\n",
       "<text text-anchor=\"middle\" x=\"55.2\" y=\"-1.55\" font-family=\"trebuchet\" font-size=\"11.00\">samples: 31230</text>\n",
       "</g>\n",
       "</g>\n",
       "</svg>\n"
      ],
      "text/plain": [
       "<graphviz.graphs.Digraph at 0x15c2bbbb0>"
      ]
     },
     "metadata": {},
     "output_type": "display_data"
    },
    {
     "name": "stdout",
     "output_type": "stream",
     "text": [
      "Tree 1\n"
     ]
    },
    {
     "data": {
      "text/plain": [
       "{'n_nodes': 4,\n",
       " 'n_branches': 1,\n",
       " 'n_leaves': 2,\n",
       " 'n_active_leaves': 2,\n",
       " 'n_inactive_leaves': 0,\n",
       " 'height': 2,\n",
       " 'total_observed_weight': 68855.0,\n",
       " 'n_current_alternate_trees': 1,\n",
       " 'n_pruned_alternate_trees': 10,\n",
       " 'n_switched_alternate_trees': 1}"
      ]
     },
     "metadata": {},
     "output_type": "display_data"
    },
    {
     "data": {
      "text/html": [
       "<div>\n",
       "<style scoped>\n",
       "    .dataframe tbody tr th:only-of-type {\n",
       "        vertical-align: middle;\n",
       "    }\n",
       "\n",
       "    .dataframe tbody tr th {\n",
       "        vertical-align: top;\n",
       "    }\n",
       "\n",
       "    .dataframe thead th {\n",
       "        text-align: right;\n",
       "    }\n",
       "</style>\n",
       "<table border=\"1\" class=\"dataframe\">\n",
       "  <thead>\n",
       "    <tr style=\"text-align: right;\">\n",
       "      <th></th>\n",
       "      <th>parent</th>\n",
       "      <th>is_leaf</th>\n",
       "      <th>depth</th>\n",
       "      <th>drift_detector</th>\n",
       "      <th>_mean_perf</th>\n",
       "      <th>_post_drift_weight</th>\n",
       "      <th>warning</th>\n",
       "      <th>stats</th>\n",
       "      <th>feature</th>\n",
       "      <th>threshold</th>\n",
       "      <th>...</th>\n",
       "      <th>_alternate_tree</th>\n",
       "      <th>splitter</th>\n",
       "      <th>splitters</th>\n",
       "      <th>_disabled_attrs</th>\n",
       "      <th>_last_split_attempt_at</th>\n",
       "      <th>current_weight</th>\n",
       "      <th>pure_clf</th>\n",
       "      <th>entropy</th>\n",
       "      <th>low_card_clf</th>\n",
       "      <th>high_card_clf</th>\n",
       "    </tr>\n",
       "    <tr>\n",
       "      <th>node</th>\n",
       "      <th></th>\n",
       "      <th></th>\n",
       "      <th></th>\n",
       "      <th></th>\n",
       "      <th></th>\n",
       "      <th></th>\n",
       "      <th></th>\n",
       "      <th></th>\n",
       "      <th></th>\n",
       "      <th></th>\n",
       "      <th></th>\n",
       "      <th></th>\n",
       "      <th></th>\n",
       "      <th></th>\n",
       "      <th></th>\n",
       "      <th></th>\n",
       "      <th></th>\n",
       "      <th></th>\n",
       "      <th></th>\n",
       "      <th></th>\n",
       "      <th></th>\n",
       "    </tr>\n",
       "  </thead>\n",
       "  <tbody>\n",
       "    <tr>\n",
       "      <th>0</th>\n",
       "      <td>&lt;NA&gt;</td>\n",
       "      <td>False</td>\n",
       "      <td>0</td>\n",
       "      <td>ADWIN</td>\n",
       "      <td>MicroAverage(F1): 3.17%</td>\n",
       "      <td>5492</td>\n",
       "      <td>False</td>\n",
       "      <td>{'OSF': 445, 'total': 44666, 'empty': 43059, '...</td>\n",
       "      <td>Tool wear [min]</td>\n",
       "      <td>184.0</td>\n",
       "      <td>...</td>\n",
       "      <td>MLHAToCLeaf</td>\n",
       "      <td>NaN</td>\n",
       "      <td>NaN</td>\n",
       "      <td>NaN</td>\n",
       "      <td>NaN</td>\n",
       "      <td>NaN</td>\n",
       "      <td>NaN</td>\n",
       "      <td>NaN</td>\n",
       "      <td>NaN</td>\n",
       "      <td>NaN</td>\n",
       "    </tr>\n",
       "    <tr>\n",
       "      <th>1</th>\n",
       "      <td>&lt;NA&gt;</td>\n",
       "      <td>True</td>\n",
       "      <td>0</td>\n",
       "      <td>ADWIN</td>\n",
       "      <td>MicroAverage(F1): 0.00%</td>\n",
       "      <td>132</td>\n",
       "      <td>False</td>\n",
       "      <td>{'PWF': 4, 'OSF': 4, 'total': 136, 'empty': 132}</td>\n",
       "      <td>NaN</td>\n",
       "      <td>NaN</td>\n",
       "      <td>...</td>\n",
       "      <td>NaN</td>\n",
       "      <td>GaussianSplitter</td>\n",
       "      <td>{'Rotational speed [rpm]': GaussianSplitter, '...</td>\n",
       "      <td>{}</td>\n",
       "      <td>0.000000</td>\n",
       "      <td>136.0</td>\n",
       "      <td>MajorityLabelset</td>\n",
       "      <td>0.0</td>\n",
       "      <td>LabelCombination</td>\n",
       "      <td>[TWF, HDF, PWF, OSF, RNF]</td>\n",
       "    </tr>\n",
       "    <tr>\n",
       "      <th>2</th>\n",
       "      <td>0</td>\n",
       "      <td>True</td>\n",
       "      <td>1</td>\n",
       "      <td>ADWIN</td>\n",
       "      <td>MicroAverage(F1): 3.17%</td>\n",
       "      <td>5492</td>\n",
       "      <td>False</td>\n",
       "      <td>{'OSF': 35.493161428727106, 'total': 39327.781...</td>\n",
       "      <td>NaN</td>\n",
       "      <td>NaN</td>\n",
       "      <td>...</td>\n",
       "      <td>NaN</td>\n",
       "      <td>GaussianSplitter</td>\n",
       "      <td>{'Rotational speed [rpm]': GaussianSplitter, '...</td>\n",
       "      <td>{}</td>\n",
       "      <td>34621.781305</td>\n",
       "      <td>4706.0</td>\n",
       "      <td>MajorityLabelset</td>\n",
       "      <td>0.0</td>\n",
       "      <td>LabelCombination</td>\n",
       "      <td>[TWF, HDF, PWF, OSF, RNF]</td>\n",
       "    </tr>\n",
       "    <tr>\n",
       "      <th>3</th>\n",
       "      <td>0</td>\n",
       "      <td>True</td>\n",
       "      <td>1</td>\n",
       "      <td>ADWIN</td>\n",
       "      <td>MicroAverage(F1): 3.17%</td>\n",
       "      <td>5438</td>\n",
       "      <td>False</td>\n",
       "      <td>{'OSF': 409.5068385712729, 'total': 5338.21869...</td>\n",
       "      <td>NaN</td>\n",
       "      <td>NaN</td>\n",
       "      <td>...</td>\n",
       "      <td>NaN</td>\n",
       "      <td>GaussianSplitter</td>\n",
       "      <td>{'Rotational speed [rpm]': GaussianSplitter, '...</td>\n",
       "      <td>{}</td>\n",
       "      <td>4552.218695</td>\n",
       "      <td>786.0</td>\n",
       "      <td>MajorityLabelset</td>\n",
       "      <td>0.0</td>\n",
       "      <td>LabelCombination</td>\n",
       "      <td>[TWF, HDF, PWF, OSF, RNF]</td>\n",
       "    </tr>\n",
       "  </tbody>\n",
       "</table>\n",
       "<p>4 rows × 21 columns</p>\n",
       "</div>"
      ],
      "text/plain": [
       "     parent  is_leaf  depth drift_detector               _mean_perf  \\\n",
       "node                                                                  \n",
       "0      <NA>    False      0          ADWIN  MicroAverage(F1): 3.17%   \n",
       "1      <NA>     True      0          ADWIN  MicroAverage(F1): 0.00%   \n",
       "2         0     True      1          ADWIN  MicroAverage(F1): 3.17%   \n",
       "3         0     True      1          ADWIN  MicroAverage(F1): 3.17%   \n",
       "\n",
       "      _post_drift_weight  warning  \\\n",
       "node                                \n",
       "0                   5492    False   \n",
       "1                    132    False   \n",
       "2                   5492    False   \n",
       "3                   5438    False   \n",
       "\n",
       "                                                  stats          feature  \\\n",
       "node                                                                       \n",
       "0     {'OSF': 445, 'total': 44666, 'empty': 43059, '...  Tool wear [min]   \n",
       "1      {'PWF': 4, 'OSF': 4, 'total': 136, 'empty': 132}              NaN   \n",
       "2     {'OSF': 35.493161428727106, 'total': 39327.781...              NaN   \n",
       "3     {'OSF': 409.5068385712729, 'total': 5338.21869...              NaN   \n",
       "\n",
       "      threshold  ...  _alternate_tree          splitter  \\\n",
       "node             ...                                      \n",
       "0         184.0  ...      MLHAToCLeaf               NaN   \n",
       "1           NaN  ...              NaN  GaussianSplitter   \n",
       "2           NaN  ...              NaN  GaussianSplitter   \n",
       "3           NaN  ...              NaN  GaussianSplitter   \n",
       "\n",
       "                                              splitters _disabled_attrs  \\\n",
       "node                                                                      \n",
       "0                                                   NaN             NaN   \n",
       "1     {'Rotational speed [rpm]': GaussianSplitter, '...              {}   \n",
       "2     {'Rotational speed [rpm]': GaussianSplitter, '...              {}   \n",
       "3     {'Rotational speed [rpm]': GaussianSplitter, '...              {}   \n",
       "\n",
       "     _last_split_attempt_at  current_weight          pure_clf entropy  \\\n",
       "node                                                                    \n",
       "0                       NaN             NaN               NaN     NaN   \n",
       "1                  0.000000           136.0  MajorityLabelset     0.0   \n",
       "2              34621.781305          4706.0  MajorityLabelset     0.0   \n",
       "3               4552.218695           786.0  MajorityLabelset     0.0   \n",
       "\n",
       "          low_card_clf              high_card_clf  \n",
       "node                                               \n",
       "0                  NaN                        NaN  \n",
       "1     LabelCombination  [TWF, HDF, PWF, OSF, RNF]  \n",
       "2     LabelCombination  [TWF, HDF, PWF, OSF, RNF]  \n",
       "3     LabelCombination  [TWF, HDF, PWF, OSF, RNF]  \n",
       "\n",
       "[4 rows x 21 columns]"
      ]
     },
     "metadata": {},
     "output_type": "display_data"
    },
    {
     "data": {
      "image/svg+xml": [
       "<?xml version=\"1.0\" encoding=\"UTF-8\" standalone=\"no\"?>\n",
       "<!DOCTYPE svg PUBLIC \"-//W3C//DTD SVG 1.1//EN\"\n",
       " \"http://www.w3.org/Graphics/SVG/1.1/DTD/svg11.dtd\">\n",
       "<!-- Generated by graphviz version 12.2.0 (20241103.1931)\n",
       " -->\n",
       "<!-- Pages: 1 -->\n",
       "<svg width=\"246pt\" height=\"188pt\"\n",
       " viewBox=\"0.00 0.00 246.40 188.00\" xmlns=\"http://www.w3.org/2000/svg\" xmlns:xlink=\"http://www.w3.org/1999/xlink\">\n",
       "<g id=\"graph0\" class=\"graph\" transform=\"scale(1 1) rotate(0) translate(4 184)\">\n",
       "<polygon fill=\"white\" stroke=\"none\" points=\"-4,4 -4,-184 242.4,-184 242.4,4 -4,4\"/>\n",
       "<!-- 0 -->\n",
       "<g id=\"node1\" class=\"node\">\n",
       "<title>0</title>\n",
       "<polygon fill=\"#f5d0b5\" stroke=\"black\" stroke-width=\"1.2\" points=\"162.78,-180 75.63,-180 75.63,-144 162.78,-144 162.78,-180\"/>\n",
       "<text text-anchor=\"middle\" x=\"119.2\" y=\"-157.55\" font-family=\"trebuchet\" font-size=\"11.00\">Tool wear [min]</text>\n",
       "</g>\n",
       "<!-- 1 -->\n",
       "<g id=\"node2\" class=\"node\">\n",
       "<title>1</title>\n",
       "<polygon fill=\"#f5d0b5\" stroke=\"black\" stroke-width=\"1.2\" points=\"110.4,-102 0,-102 0,-6 110.4,-6 110.4,-102\"/>\n",
       "<text text-anchor=\"middle\" x=\"55.2\" y=\"-91.55\" font-family=\"trebuchet\" font-size=\"11.00\">Majority LS: []</text>\n",
       "<text text-anchor=\"middle\" x=\"55.2\" y=\"-79.55\" font-family=\"trebuchet\" font-size=\"11.00\">Classifier: adaptive</text>\n",
       "<text text-anchor=\"middle\" x=\"55.2\" y=\"-67.55\" font-family=\"trebuchet\" font-size=\"11.00\">\tP(HDF) = 0.0</text>\n",
       "<text text-anchor=\"middle\" x=\"55.2\" y=\"-55.55\" font-family=\"trebuchet\" font-size=\"11.00\">\tP(OSF) = 0.0</text>\n",
       "<text text-anchor=\"middle\" x=\"55.2\" y=\"-43.55\" font-family=\"trebuchet\" font-size=\"11.00\">\tP(PWF) = 0.0</text>\n",
       "<text text-anchor=\"middle\" x=\"55.2\" y=\"-31.55\" font-family=\"trebuchet\" font-size=\"11.00\">\tP(RNF) = 0.0</text>\n",
       "<text text-anchor=\"middle\" x=\"55.2\" y=\"-19.55\" font-family=\"trebuchet\" font-size=\"11.00\">\tP(empty) = 1.0</text>\n",
       "<text text-anchor=\"middle\" x=\"55.2\" y=\"-7.55\" font-family=\"trebuchet\" font-size=\"11.00\">samples: 39327</text>\n",
       "</g>\n",
       "<!-- 0&#45;&gt;1 -->\n",
       "<g id=\"edge1\" class=\"edge\">\n",
       "<title>0&#45;&gt;1</title>\n",
       "<path fill=\"none\" stroke=\"black\" stroke-width=\"0.6\" d=\"M93.01,-143.68C93.01,-143.68 93.01,-113.14 93.01,-113.14\"/>\n",
       "<polygon fill=\"black\" stroke=\"black\" stroke-width=\"0.6\" points=\"96.51,-113.14 93.01,-103.14 89.51,-113.14 96.51,-113.14\"/>\n",
       "<text text-anchor=\"middle\" x=\"82.14\" y=\"-130.76\" font-family=\"Times,serif\" font-size=\"7.00\">≤ 184.0</text>\n",
       "</g>\n",
       "<!-- 2 -->\n",
       "<g id=\"node3\" class=\"node\">\n",
       "<title>2</title>\n",
       "<polygon fill=\"#f6d2b8\" stroke=\"black\" stroke-width=\"1.2\" points=\"238.4,-108 128,-108 128,0 238.4,0 238.4,-108\"/>\n",
       "<text text-anchor=\"middle\" x=\"183.2\" y=\"-97.55\" font-family=\"trebuchet\" font-size=\"11.00\">Majority LS: []</text>\n",
       "<text text-anchor=\"middle\" x=\"183.2\" y=\"-85.55\" font-family=\"trebuchet\" font-size=\"11.00\">Classifier: adaptive</text>\n",
       "<text text-anchor=\"middle\" x=\"183.2\" y=\"-73.55\" font-family=\"trebuchet\" font-size=\"11.00\">\tP(HDF) = 0.0</text>\n",
       "<text text-anchor=\"middle\" x=\"183.2\" y=\"-61.55\" font-family=\"trebuchet\" font-size=\"11.00\">\tP(OSF) = 0.1</text>\n",
       "<text text-anchor=\"middle\" x=\"183.2\" y=\"-49.55\" font-family=\"trebuchet\" font-size=\"11.00\">\tP(PWF) = 0.0</text>\n",
       "<text text-anchor=\"middle\" x=\"183.2\" y=\"-37.55\" font-family=\"trebuchet\" font-size=\"11.00\">\tP(RNF) = 0.0</text>\n",
       "<text text-anchor=\"middle\" x=\"183.2\" y=\"-25.55\" font-family=\"trebuchet\" font-size=\"11.00\">\tP(TWF) = 0.0</text>\n",
       "<text text-anchor=\"middle\" x=\"183.2\" y=\"-13.55\" font-family=\"trebuchet\" font-size=\"11.00\">\tP(empty) = 0.9</text>\n",
       "<text text-anchor=\"middle\" x=\"183.2\" y=\"-1.55\" font-family=\"trebuchet\" font-size=\"11.00\">samples: 5338</text>\n",
       "</g>\n",
       "<!-- 0&#45;&gt;2 -->\n",
       "<g id=\"edge2\" class=\"edge\">\n",
       "<title>0&#45;&gt;2</title>\n",
       "<path fill=\"none\" stroke=\"black\" stroke-width=\"0.6\" d=\"M145.39,-143.68C145.39,-143.68 145.39,-119.2 145.39,-119.2\"/>\n",
       "<polygon fill=\"black\" stroke=\"black\" stroke-width=\"0.6\" points=\"148.89,-119.2 145.39,-109.2 141.89,-119.2 148.89,-119.2\"/>\n",
       "<text text-anchor=\"middle\" x=\"134.51\" y=\"-133.79\" font-family=\"Times,serif\" font-size=\"7.00\">&gt; 184.0</text>\n",
       "</g>\n",
       "</g>\n",
       "</svg>\n"
      ],
      "text/plain": [
       "<graphviz.graphs.Digraph at 0x15b75c400>"
      ]
     },
     "metadata": {},
     "output_type": "display_data"
    },
    {
     "name": "stdout",
     "output_type": "stream",
     "text": [
      "Tree 2\n"
     ]
    },
    {
     "data": {
      "text/plain": [
       "{'n_nodes': 1,\n",
       " 'n_branches': 0,\n",
       " 'n_leaves': 1,\n",
       " 'n_active_leaves': 1,\n",
       " 'n_inactive_leaves': 0,\n",
       " 'height': 1,\n",
       " 'total_observed_weight': 68979.0,\n",
       " 'n_current_alternate_trees': 0,\n",
       " 'n_pruned_alternate_trees': 87,\n",
       " 'n_switched_alternate_trees': 6}"
      ]
     },
     "metadata": {},
     "output_type": "display_data"
    },
    {
     "data": {
      "text/plain": [
       "None"
      ]
     },
     "metadata": {},
     "output_type": "display_data"
    },
    {
     "data": {
      "image/svg+xml": [
       "<?xml version=\"1.0\" encoding=\"UTF-8\" standalone=\"no\"?>\n",
       "<!DOCTYPE svg PUBLIC \"-//W3C//DTD SVG 1.1//EN\"\n",
       " \"http://www.w3.org/Graphics/SVG/1.1/DTD/svg11.dtd\">\n",
       "<!-- Generated by graphviz version 12.2.0 (20241103.1931)\n",
       " -->\n",
       "<!-- Pages: 1 -->\n",
       "<svg width=\"118pt\" height=\"92pt\"\n",
       " viewBox=\"0.00 0.00 118.40 92.00\" xmlns=\"http://www.w3.org/2000/svg\" xmlns:xlink=\"http://www.w3.org/1999/xlink\">\n",
       "<g id=\"graph0\" class=\"graph\" transform=\"scale(1 1) rotate(0) translate(4 88)\">\n",
       "<polygon fill=\"white\" stroke=\"none\" points=\"-4,4 -4,-88 114.4,-88 114.4,4 -4,4\"/>\n",
       "<!-- 0 -->\n",
       "<g id=\"node1\" class=\"node\">\n",
       "<title>0</title>\n",
       "<polygon fill=\"#f5d0b5\" stroke=\"black\" stroke-width=\"1.2\" points=\"110.4,-84 0,-84 0,0 110.4,0 110.4,-84\"/>\n",
       "<text text-anchor=\"middle\" x=\"55.2\" y=\"-73.55\" font-family=\"trebuchet\" font-size=\"11.00\">Majority LS: []</text>\n",
       "<text text-anchor=\"middle\" x=\"55.2\" y=\"-61.55\" font-family=\"trebuchet\" font-size=\"11.00\">Classifier: adaptive</text>\n",
       "<text text-anchor=\"middle\" x=\"55.2\" y=\"-49.55\" font-family=\"trebuchet\" font-size=\"11.00\">\tP(OSF) = 0.0</text>\n",
       "<text text-anchor=\"middle\" x=\"55.2\" y=\"-37.55\" font-family=\"trebuchet\" font-size=\"11.00\">\tP(PWF) = 0.0</text>\n",
       "<text text-anchor=\"middle\" x=\"55.2\" y=\"-25.55\" font-family=\"trebuchet\" font-size=\"11.00\">\tP(TWF) = 0.0</text>\n",
       "<text text-anchor=\"middle\" x=\"55.2\" y=\"-13.55\" font-family=\"trebuchet\" font-size=\"11.00\">\tP(empty) = 1.0</text>\n",
       "<text text-anchor=\"middle\" x=\"55.2\" y=\"-1.55\" font-family=\"trebuchet\" font-size=\"11.00\">samples: 1722</text>\n",
       "</g>\n",
       "</g>\n",
       "</svg>\n"
      ],
      "text/plain": [
       "<graphviz.graphs.Digraph at 0x15b75c6a0>"
      ]
     },
     "metadata": {},
     "output_type": "display_data"
    },
    {
     "name": "stdout",
     "output_type": "stream",
     "text": [
      "Tree 3\n"
     ]
    },
    {
     "data": {
      "text/plain": [
       "{'n_nodes': 1,\n",
       " 'n_branches': 0,\n",
       " 'n_leaves': 1,\n",
       " 'n_active_leaves': 1,\n",
       " 'n_inactive_leaves': 0,\n",
       " 'height': 1,\n",
       " 'total_observed_weight': 69108.0,\n",
       " 'n_current_alternate_trees': 0,\n",
       " 'n_pruned_alternate_trees': 4,\n",
       " 'n_switched_alternate_trees': 1}"
      ]
     },
     "metadata": {},
     "output_type": "display_data"
    },
    {
     "data": {
      "text/plain": [
       "None"
      ]
     },
     "metadata": {},
     "output_type": "display_data"
    },
    {
     "data": {
      "image/svg+xml": [
       "<?xml version=\"1.0\" encoding=\"UTF-8\" standalone=\"no\"?>\n",
       "<!DOCTYPE svg PUBLIC \"-//W3C//DTD SVG 1.1//EN\"\n",
       " \"http://www.w3.org/Graphics/SVG/1.1/DTD/svg11.dtd\">\n",
       "<!-- Generated by graphviz version 12.2.0 (20241103.1931)\n",
       " -->\n",
       "<!-- Pages: 1 -->\n",
       "<svg width=\"118pt\" height=\"116pt\"\n",
       " viewBox=\"0.00 0.00 118.40 116.00\" xmlns=\"http://www.w3.org/2000/svg\" xmlns:xlink=\"http://www.w3.org/1999/xlink\">\n",
       "<g id=\"graph0\" class=\"graph\" transform=\"scale(1 1) rotate(0) translate(4 112)\">\n",
       "<polygon fill=\"white\" stroke=\"none\" points=\"-4,4 -4,-112 114.4,-112 114.4,4 -4,4\"/>\n",
       "<!-- 0 -->\n",
       "<g id=\"node1\" class=\"node\">\n",
       "<title>0</title>\n",
       "<polygon fill=\"#f5d0b5\" stroke=\"black\" stroke-width=\"1.2\" points=\"110.4,-108 0,-108 0,0 110.4,0 110.4,-108\"/>\n",
       "<text text-anchor=\"middle\" x=\"55.2\" y=\"-97.55\" font-family=\"trebuchet\" font-size=\"11.00\">Majority LS: []</text>\n",
       "<text text-anchor=\"middle\" x=\"55.2\" y=\"-85.55\" font-family=\"trebuchet\" font-size=\"11.00\">Classifier: adaptive</text>\n",
       "<text text-anchor=\"middle\" x=\"55.2\" y=\"-73.55\" font-family=\"trebuchet\" font-size=\"11.00\">\tP(HDF) = 0.0</text>\n",
       "<text text-anchor=\"middle\" x=\"55.2\" y=\"-61.55\" font-family=\"trebuchet\" font-size=\"11.00\">\tP(OSF) = 0.0</text>\n",
       "<text text-anchor=\"middle\" x=\"55.2\" y=\"-49.55\" font-family=\"trebuchet\" font-size=\"11.00\">\tP(PWF) = 0.0</text>\n",
       "<text text-anchor=\"middle\" x=\"55.2\" y=\"-37.55\" font-family=\"trebuchet\" font-size=\"11.00\">\tP(RNF) = 0.0</text>\n",
       "<text text-anchor=\"middle\" x=\"55.2\" y=\"-25.55\" font-family=\"trebuchet\" font-size=\"11.00\">\tP(TWF) = 0.0</text>\n",
       "<text text-anchor=\"middle\" x=\"55.2\" y=\"-13.55\" font-family=\"trebuchet\" font-size=\"11.00\">\tP(empty) = 1.0</text>\n",
       "<text text-anchor=\"middle\" x=\"55.2\" y=\"-1.55\" font-family=\"trebuchet\" font-size=\"11.00\">samples: 29771</text>\n",
       "</g>\n",
       "</g>\n",
       "</svg>\n"
      ],
      "text/plain": [
       "<graphviz.graphs.Digraph at 0x15b75c7c0>"
      ]
     },
     "metadata": {},
     "output_type": "display_data"
    },
    {
     "name": "stdout",
     "output_type": "stream",
     "text": [
      "Tree 4\n"
     ]
    },
    {
     "data": {
      "text/plain": [
       "{'n_nodes': 1,\n",
       " 'n_branches': 0,\n",
       " 'n_leaves': 1,\n",
       " 'n_active_leaves': 1,\n",
       " 'n_inactive_leaves': 0,\n",
       " 'height': 1,\n",
       " 'total_observed_weight': 69111.0,\n",
       " 'n_current_alternate_trees': 0,\n",
       " 'n_pruned_alternate_trees': 4,\n",
       " 'n_switched_alternate_trees': 1}"
      ]
     },
     "metadata": {},
     "output_type": "display_data"
    },
    {
     "data": {
      "text/plain": [
       "None"
      ]
     },
     "metadata": {},
     "output_type": "display_data"
    },
    {
     "data": {
      "image/svg+xml": [
       "<?xml version=\"1.0\" encoding=\"UTF-8\" standalone=\"no\"?>\n",
       "<!DOCTYPE svg PUBLIC \"-//W3C//DTD SVG 1.1//EN\"\n",
       " \"http://www.w3.org/Graphics/SVG/1.1/DTD/svg11.dtd\">\n",
       "<!-- Generated by graphviz version 12.2.0 (20241103.1931)\n",
       " -->\n",
       "<!-- Pages: 1 -->\n",
       "<svg width=\"118pt\" height=\"116pt\"\n",
       " viewBox=\"0.00 0.00 118.40 116.00\" xmlns=\"http://www.w3.org/2000/svg\" xmlns:xlink=\"http://www.w3.org/1999/xlink\">\n",
       "<g id=\"graph0\" class=\"graph\" transform=\"scale(1 1) rotate(0) translate(4 112)\">\n",
       "<polygon fill=\"white\" stroke=\"none\" points=\"-4,4 -4,-112 114.4,-112 114.4,4 -4,4\"/>\n",
       "<!-- 0 -->\n",
       "<g id=\"node1\" class=\"node\">\n",
       "<title>0</title>\n",
       "<polygon fill=\"#f5d0b5\" stroke=\"black\" stroke-width=\"1.2\" points=\"110.4,-108 0,-108 0,0 110.4,0 110.4,-108\"/>\n",
       "<text text-anchor=\"middle\" x=\"55.2\" y=\"-97.55\" font-family=\"trebuchet\" font-size=\"11.00\">Majority LS: []</text>\n",
       "<text text-anchor=\"middle\" x=\"55.2\" y=\"-85.55\" font-family=\"trebuchet\" font-size=\"11.00\">Classifier: adaptive</text>\n",
       "<text text-anchor=\"middle\" x=\"55.2\" y=\"-73.55\" font-family=\"trebuchet\" font-size=\"11.00\">\tP(HDF) = 0.0</text>\n",
       "<text text-anchor=\"middle\" x=\"55.2\" y=\"-61.55\" font-family=\"trebuchet\" font-size=\"11.00\">\tP(OSF) = 0.0</text>\n",
       "<text text-anchor=\"middle\" x=\"55.2\" y=\"-49.55\" font-family=\"trebuchet\" font-size=\"11.00\">\tP(PWF) = 0.0</text>\n",
       "<text text-anchor=\"middle\" x=\"55.2\" y=\"-37.55\" font-family=\"trebuchet\" font-size=\"11.00\">\tP(RNF) = 0.0</text>\n",
       "<text text-anchor=\"middle\" x=\"55.2\" y=\"-25.55\" font-family=\"trebuchet\" font-size=\"11.00\">\tP(TWF) = 0.0</text>\n",
       "<text text-anchor=\"middle\" x=\"55.2\" y=\"-13.55\" font-family=\"trebuchet\" font-size=\"11.00\">\tP(empty) = 1.0</text>\n",
       "<text text-anchor=\"middle\" x=\"55.2\" y=\"-1.55\" font-family=\"trebuchet\" font-size=\"11.00\">samples: 29975</text>\n",
       "</g>\n",
       "</g>\n",
       "</svg>\n"
      ],
      "text/plain": [
       "<graphviz.graphs.Digraph at 0x15b75c400>"
      ]
     },
     "metadata": {},
     "output_type": "display_data"
    },
    {
     "name": "stdout",
     "output_type": "stream",
     "text": [
      "Tree 5\n"
     ]
    },
    {
     "data": {
      "text/plain": [
       "{'n_nodes': 1,\n",
       " 'n_branches': 0,\n",
       " 'n_leaves': 1,\n",
       " 'n_active_leaves': 1,\n",
       " 'n_inactive_leaves': 0,\n",
       " 'height': 1,\n",
       " 'total_observed_weight': 69213.0,\n",
       " 'n_current_alternate_trees': 0,\n",
       " 'n_pruned_alternate_trees': 50,\n",
       " 'n_switched_alternate_trees': 1}"
      ]
     },
     "metadata": {},
     "output_type": "display_data"
    },
    {
     "data": {
      "text/plain": [
       "None"
      ]
     },
     "metadata": {},
     "output_type": "display_data"
    },
    {
     "data": {
      "image/svg+xml": [
       "<?xml version=\"1.0\" encoding=\"UTF-8\" standalone=\"no\"?>\n",
       "<!DOCTYPE svg PUBLIC \"-//W3C//DTD SVG 1.1//EN\"\n",
       " \"http://www.w3.org/Graphics/SVG/1.1/DTD/svg11.dtd\">\n",
       "<!-- Generated by graphviz version 12.2.0 (20241103.1931)\n",
       " -->\n",
       "<!-- Pages: 1 -->\n",
       "<svg width=\"118pt\" height=\"104pt\"\n",
       " viewBox=\"0.00 0.00 118.40 104.00\" xmlns=\"http://www.w3.org/2000/svg\" xmlns:xlink=\"http://www.w3.org/1999/xlink\">\n",
       "<g id=\"graph0\" class=\"graph\" transform=\"scale(1 1) rotate(0) translate(4 100)\">\n",
       "<polygon fill=\"white\" stroke=\"none\" points=\"-4,4 -4,-100 114.4,-100 114.4,4 -4,4\"/>\n",
       "<!-- 0 -->\n",
       "<g id=\"node1\" class=\"node\">\n",
       "<title>0</title>\n",
       "<polygon fill=\"#f5d0b5\" stroke=\"black\" stroke-width=\"1.2\" points=\"110.4,-96 0,-96 0,0 110.4,0 110.4,-96\"/>\n",
       "<text text-anchor=\"middle\" x=\"55.2\" y=\"-85.55\" font-family=\"trebuchet\" font-size=\"11.00\">Majority LS: []</text>\n",
       "<text text-anchor=\"middle\" x=\"55.2\" y=\"-73.55\" font-family=\"trebuchet\" font-size=\"11.00\">Classifier: adaptive</text>\n",
       "<text text-anchor=\"middle\" x=\"55.2\" y=\"-61.55\" font-family=\"trebuchet\" font-size=\"11.00\">\tP(OSF) = 0.0</text>\n",
       "<text text-anchor=\"middle\" x=\"55.2\" y=\"-49.55\" font-family=\"trebuchet\" font-size=\"11.00\">\tP(PWF) = 0.0</text>\n",
       "<text text-anchor=\"middle\" x=\"55.2\" y=\"-37.55\" font-family=\"trebuchet\" font-size=\"11.00\">\tP(RNF) = 0.0</text>\n",
       "<text text-anchor=\"middle\" x=\"55.2\" y=\"-25.55\" font-family=\"trebuchet\" font-size=\"11.00\">\tP(TWF) = 0.0</text>\n",
       "<text text-anchor=\"middle\" x=\"55.2\" y=\"-13.55\" font-family=\"trebuchet\" font-size=\"11.00\">\tP(empty) = 1.0</text>\n",
       "<text text-anchor=\"middle\" x=\"55.2\" y=\"-1.55\" font-family=\"trebuchet\" font-size=\"11.00\">samples: 21927</text>\n",
       "</g>\n",
       "</g>\n",
       "</svg>\n"
      ],
      "text/plain": [
       "<graphviz.graphs.Digraph at 0x15b75c7f0>"
      ]
     },
     "metadata": {},
     "output_type": "display_data"
    },
    {
     "name": "stdout",
     "output_type": "stream",
     "text": [
      "Tree 6\n"
     ]
    },
    {
     "data": {
      "text/plain": [
       "{'n_nodes': 1,\n",
       " 'n_branches': 0,\n",
       " 'n_leaves': 1,\n",
       " 'n_active_leaves': 1,\n",
       " 'n_inactive_leaves': 0,\n",
       " 'height': 1,\n",
       " 'total_observed_weight': 68491.0,\n",
       " 'n_current_alternate_trees': 0,\n",
       " 'n_pruned_alternate_trees': 46,\n",
       " 'n_switched_alternate_trees': 2}"
      ]
     },
     "metadata": {},
     "output_type": "display_data"
    },
    {
     "data": {
      "text/plain": [
       "None"
      ]
     },
     "metadata": {},
     "output_type": "display_data"
    },
    {
     "data": {
      "image/svg+xml": [
       "<?xml version=\"1.0\" encoding=\"UTF-8\" standalone=\"no\"?>\n",
       "<!DOCTYPE svg PUBLIC \"-//W3C//DTD SVG 1.1//EN\"\n",
       " \"http://www.w3.org/Graphics/SVG/1.1/DTD/svg11.dtd\">\n",
       "<!-- Generated by graphviz version 12.2.0 (20241103.1931)\n",
       " -->\n",
       "<!-- Pages: 1 -->\n",
       "<svg width=\"118pt\" height=\"104pt\"\n",
       " viewBox=\"0.00 0.00 118.40 104.00\" xmlns=\"http://www.w3.org/2000/svg\" xmlns:xlink=\"http://www.w3.org/1999/xlink\">\n",
       "<g id=\"graph0\" class=\"graph\" transform=\"scale(1 1) rotate(0) translate(4 100)\">\n",
       "<polygon fill=\"white\" stroke=\"none\" points=\"-4,4 -4,-100 114.4,-100 114.4,4 -4,4\"/>\n",
       "<!-- 0 -->\n",
       "<g id=\"node1\" class=\"node\">\n",
       "<title>0</title>\n",
       "<polygon fill=\"#f5d0b5\" stroke=\"black\" stroke-width=\"1.2\" points=\"110.4,-96 0,-96 0,0 110.4,0 110.4,-96\"/>\n",
       "<text text-anchor=\"middle\" x=\"55.2\" y=\"-85.55\" font-family=\"trebuchet\" font-size=\"11.00\">Majority LS: []</text>\n",
       "<text text-anchor=\"middle\" x=\"55.2\" y=\"-73.55\" font-family=\"trebuchet\" font-size=\"11.00\">Classifier: adaptive</text>\n",
       "<text text-anchor=\"middle\" x=\"55.2\" y=\"-61.55\" font-family=\"trebuchet\" font-size=\"11.00\">\tP(OSF) = 0.0</text>\n",
       "<text text-anchor=\"middle\" x=\"55.2\" y=\"-49.55\" font-family=\"trebuchet\" font-size=\"11.00\">\tP(PWF) = 0.0</text>\n",
       "<text text-anchor=\"middle\" x=\"55.2\" y=\"-37.55\" font-family=\"trebuchet\" font-size=\"11.00\">\tP(RNF) = 0.0</text>\n",
       "<text text-anchor=\"middle\" x=\"55.2\" y=\"-25.55\" font-family=\"trebuchet\" font-size=\"11.00\">\tP(TWF) = 0.0</text>\n",
       "<text text-anchor=\"middle\" x=\"55.2\" y=\"-13.55\" font-family=\"trebuchet\" font-size=\"11.00\">\tP(empty) = 1.0</text>\n",
       "<text text-anchor=\"middle\" x=\"55.2\" y=\"-1.55\" font-family=\"trebuchet\" font-size=\"11.00\">samples: 21636</text>\n",
       "</g>\n",
       "</g>\n",
       "</svg>\n"
      ],
      "text/plain": [
       "<graphviz.graphs.Digraph at 0x15b75ddb0>"
      ]
     },
     "metadata": {},
     "output_type": "display_data"
    },
    {
     "name": "stdout",
     "output_type": "stream",
     "text": [
      "Tree 7\n"
     ]
    },
    {
     "data": {
      "text/plain": [
       "{'n_nodes': 1,\n",
       " 'n_branches': 0,\n",
       " 'n_leaves': 1,\n",
       " 'n_active_leaves': 1,\n",
       " 'n_inactive_leaves': 0,\n",
       " 'height': 1,\n",
       " 'total_observed_weight': 69167.0,\n",
       " 'n_current_alternate_trees': 0,\n",
       " 'n_pruned_alternate_trees': 65,\n",
       " 'n_switched_alternate_trees': 1}"
      ]
     },
     "metadata": {},
     "output_type": "display_data"
    },
    {
     "data": {
      "text/plain": [
       "None"
      ]
     },
     "metadata": {},
     "output_type": "display_data"
    },
    {
     "data": {
      "image/svg+xml": [
       "<?xml version=\"1.0\" encoding=\"UTF-8\" standalone=\"no\"?>\n",
       "<!DOCTYPE svg PUBLIC \"-//W3C//DTD SVG 1.1//EN\"\n",
       " \"http://www.w3.org/Graphics/SVG/1.1/DTD/svg11.dtd\">\n",
       "<!-- Generated by graphviz version 12.2.0 (20241103.1931)\n",
       " -->\n",
       "<!-- Pages: 1 -->\n",
       "<svg width=\"118pt\" height=\"92pt\"\n",
       " viewBox=\"0.00 0.00 118.40 92.00\" xmlns=\"http://www.w3.org/2000/svg\" xmlns:xlink=\"http://www.w3.org/1999/xlink\">\n",
       "<g id=\"graph0\" class=\"graph\" transform=\"scale(1 1) rotate(0) translate(4 88)\">\n",
       "<polygon fill=\"white\" stroke=\"none\" points=\"-4,4 -4,-88 114.4,-88 114.4,4 -4,4\"/>\n",
       "<!-- 0 -->\n",
       "<g id=\"node1\" class=\"node\">\n",
       "<title>0</title>\n",
       "<polygon fill=\"#f5d0b5\" stroke=\"black\" stroke-width=\"1.2\" points=\"110.4,-84 0,-84 0,0 110.4,0 110.4,-84\"/>\n",
       "<text text-anchor=\"middle\" x=\"55.2\" y=\"-73.55\" font-family=\"trebuchet\" font-size=\"11.00\">Majority LS: []</text>\n",
       "<text text-anchor=\"middle\" x=\"55.2\" y=\"-61.55\" font-family=\"trebuchet\" font-size=\"11.00\">Classifier: adaptive</text>\n",
       "<text text-anchor=\"middle\" x=\"55.2\" y=\"-49.55\" font-family=\"trebuchet\" font-size=\"11.00\">\tP(OSF) = 0.0</text>\n",
       "<text text-anchor=\"middle\" x=\"55.2\" y=\"-37.55\" font-family=\"trebuchet\" font-size=\"11.00\">\tP(PWF) = 0.0</text>\n",
       "<text text-anchor=\"middle\" x=\"55.2\" y=\"-25.55\" font-family=\"trebuchet\" font-size=\"11.00\">\tP(TWF) = 0.0</text>\n",
       "<text text-anchor=\"middle\" x=\"55.2\" y=\"-13.55\" font-family=\"trebuchet\" font-size=\"11.00\">\tP(empty) = 1.0</text>\n",
       "<text text-anchor=\"middle\" x=\"55.2\" y=\"-1.55\" font-family=\"trebuchet\" font-size=\"11.00\">samples: 1717</text>\n",
       "</g>\n",
       "</g>\n",
       "</svg>\n"
      ],
      "text/plain": [
       "<graphviz.graphs.Digraph at 0x15b75c5e0>"
      ]
     },
     "metadata": {},
     "output_type": "display_data"
    },
    {
     "name": "stdout",
     "output_type": "stream",
     "text": [
      "Tree 8\n"
     ]
    },
    {
     "data": {
      "text/plain": [
       "{'n_nodes': 1,\n",
       " 'n_branches': 0,\n",
       " 'n_leaves': 1,\n",
       " 'n_active_leaves': 1,\n",
       " 'n_inactive_leaves': 0,\n",
       " 'height': 1,\n",
       " 'total_observed_weight': 68470.0,\n",
       " 'n_current_alternate_trees': 0,\n",
       " 'n_pruned_alternate_trees': 6,\n",
       " 'n_switched_alternate_trees': 1}"
      ]
     },
     "metadata": {},
     "output_type": "display_data"
    },
    {
     "data": {
      "text/plain": [
       "None"
      ]
     },
     "metadata": {},
     "output_type": "display_data"
    },
    {
     "data": {
      "image/svg+xml": [
       "<?xml version=\"1.0\" encoding=\"UTF-8\" standalone=\"no\"?>\n",
       "<!DOCTYPE svg PUBLIC \"-//W3C//DTD SVG 1.1//EN\"\n",
       " \"http://www.w3.org/Graphics/SVG/1.1/DTD/svg11.dtd\">\n",
       "<!-- Generated by graphviz version 12.2.0 (20241103.1931)\n",
       " -->\n",
       "<!-- Pages: 1 -->\n",
       "<svg width=\"118pt\" height=\"116pt\"\n",
       " viewBox=\"0.00 0.00 118.40 116.00\" xmlns=\"http://www.w3.org/2000/svg\" xmlns:xlink=\"http://www.w3.org/1999/xlink\">\n",
       "<g id=\"graph0\" class=\"graph\" transform=\"scale(1 1) rotate(0) translate(4 112)\">\n",
       "<polygon fill=\"white\" stroke=\"none\" points=\"-4,4 -4,-112 114.4,-112 114.4,4 -4,4\"/>\n",
       "<!-- 0 -->\n",
       "<g id=\"node1\" class=\"node\">\n",
       "<title>0</title>\n",
       "<polygon fill=\"#f5d0b5\" stroke=\"black\" stroke-width=\"1.2\" points=\"110.4,-108 0,-108 0,0 110.4,0 110.4,-108\"/>\n",
       "<text text-anchor=\"middle\" x=\"55.2\" y=\"-97.55\" font-family=\"trebuchet\" font-size=\"11.00\">Majority LS: []</text>\n",
       "<text text-anchor=\"middle\" x=\"55.2\" y=\"-85.55\" font-family=\"trebuchet\" font-size=\"11.00\">Classifier: adaptive</text>\n",
       "<text text-anchor=\"middle\" x=\"55.2\" y=\"-73.55\" font-family=\"trebuchet\" font-size=\"11.00\">\tP(HDF) = 0.0</text>\n",
       "<text text-anchor=\"middle\" x=\"55.2\" y=\"-61.55\" font-family=\"trebuchet\" font-size=\"11.00\">\tP(OSF) = 0.0</text>\n",
       "<text text-anchor=\"middle\" x=\"55.2\" y=\"-49.55\" font-family=\"trebuchet\" font-size=\"11.00\">\tP(PWF) = 0.0</text>\n",
       "<text text-anchor=\"middle\" x=\"55.2\" y=\"-37.55\" font-family=\"trebuchet\" font-size=\"11.00\">\tP(RNF) = 0.0</text>\n",
       "<text text-anchor=\"middle\" x=\"55.2\" y=\"-25.55\" font-family=\"trebuchet\" font-size=\"11.00\">\tP(TWF) = 0.0</text>\n",
       "<text text-anchor=\"middle\" x=\"55.2\" y=\"-13.55\" font-family=\"trebuchet\" font-size=\"11.00\">\tP(empty) = 1.0</text>\n",
       "<text text-anchor=\"middle\" x=\"55.2\" y=\"-1.55\" font-family=\"trebuchet\" font-size=\"11.00\">samples: 38023</text>\n",
       "</g>\n",
       "</g>\n",
       "</svg>\n"
      ],
      "text/plain": [
       "<graphviz.graphs.Digraph at 0x15b75c3a0>"
      ]
     },
     "metadata": {},
     "output_type": "display_data"
    },
    {
     "name": "stdout",
     "output_type": "stream",
     "text": [
      "Tree 9\n"
     ]
    },
    {
     "data": {
      "text/plain": [
       "{'n_nodes': 1,\n",
       " 'n_branches': 0,\n",
       " 'n_leaves': 1,\n",
       " 'n_active_leaves': 1,\n",
       " 'n_inactive_leaves': 0,\n",
       " 'height': 1,\n",
       " 'total_observed_weight': 68820.0,\n",
       " 'n_current_alternate_trees': 0,\n",
       " 'n_pruned_alternate_trees': 2,\n",
       " 'n_switched_alternate_trees': 1}"
      ]
     },
     "metadata": {},
     "output_type": "display_data"
    },
    {
     "data": {
      "text/plain": [
       "None"
      ]
     },
     "metadata": {},
     "output_type": "display_data"
    },
    {
     "data": {
      "image/svg+xml": [
       "<?xml version=\"1.0\" encoding=\"UTF-8\" standalone=\"no\"?>\n",
       "<!DOCTYPE svg PUBLIC \"-//W3C//DTD SVG 1.1//EN\"\n",
       " \"http://www.w3.org/Graphics/SVG/1.1/DTD/svg11.dtd\">\n",
       "<!-- Generated by graphviz version 12.2.0 (20241103.1931)\n",
       " -->\n",
       "<!-- Pages: 1 -->\n",
       "<svg width=\"118pt\" height=\"116pt\"\n",
       " viewBox=\"0.00 0.00 118.40 116.00\" xmlns=\"http://www.w3.org/2000/svg\" xmlns:xlink=\"http://www.w3.org/1999/xlink\">\n",
       "<g id=\"graph0\" class=\"graph\" transform=\"scale(1 1) rotate(0) translate(4 112)\">\n",
       "<polygon fill=\"white\" stroke=\"none\" points=\"-4,4 -4,-112 114.4,-112 114.4,4 -4,4\"/>\n",
       "<!-- 0 -->\n",
       "<g id=\"node1\" class=\"node\">\n",
       "<title>0</title>\n",
       "<polygon fill=\"#f5d0b5\" stroke=\"black\" stroke-width=\"1.2\" points=\"110.4,-108 0,-108 0,0 110.4,0 110.4,-108\"/>\n",
       "<text text-anchor=\"middle\" x=\"55.2\" y=\"-97.55\" font-family=\"trebuchet\" font-size=\"11.00\">Majority LS: []</text>\n",
       "<text text-anchor=\"middle\" x=\"55.2\" y=\"-85.55\" font-family=\"trebuchet\" font-size=\"11.00\">Classifier: adaptive</text>\n",
       "<text text-anchor=\"middle\" x=\"55.2\" y=\"-73.55\" font-family=\"trebuchet\" font-size=\"11.00\">\tP(HDF) = 0.0</text>\n",
       "<text text-anchor=\"middle\" x=\"55.2\" y=\"-61.55\" font-family=\"trebuchet\" font-size=\"11.00\">\tP(OSF) = 0.0</text>\n",
       "<text text-anchor=\"middle\" x=\"55.2\" y=\"-49.55\" font-family=\"trebuchet\" font-size=\"11.00\">\tP(PWF) = 0.0</text>\n",
       "<text text-anchor=\"middle\" x=\"55.2\" y=\"-37.55\" font-family=\"trebuchet\" font-size=\"11.00\">\tP(RNF) = 0.0</text>\n",
       "<text text-anchor=\"middle\" x=\"55.2\" y=\"-25.55\" font-family=\"trebuchet\" font-size=\"11.00\">\tP(TWF) = 0.0</text>\n",
       "<text text-anchor=\"middle\" x=\"55.2\" y=\"-13.55\" font-family=\"trebuchet\" font-size=\"11.00\">\tP(empty) = 1.0</text>\n",
       "<text text-anchor=\"middle\" x=\"55.2\" y=\"-1.55\" font-family=\"trebuchet\" font-size=\"11.00\">samples: 29008</text>\n",
       "</g>\n",
       "</g>\n",
       "</svg>\n"
      ],
      "text/plain": [
       "<graphviz.graphs.Digraph at 0x15b75c850>"
      ]
     },
     "metadata": {},
     "output_type": "display_data"
    },
    {
     "name": "stdout",
     "output_type": "stream",
     "text": [
      "Tree 10\n"
     ]
    },
    {
     "data": {
      "text/plain": [
       "{'n_nodes': 1,\n",
       " 'n_branches': 0,\n",
       " 'n_leaves': 1,\n",
       " 'n_active_leaves': 1,\n",
       " 'n_inactive_leaves': 0,\n",
       " 'height': 1,\n",
       " 'total_observed_weight': 68598.0,\n",
       " 'n_current_alternate_trees': 0,\n",
       " 'n_pruned_alternate_trees': 3,\n",
       " 'n_switched_alternate_trees': 1}"
      ]
     },
     "metadata": {},
     "output_type": "display_data"
    },
    {
     "data": {
      "text/plain": [
       "None"
      ]
     },
     "metadata": {},
     "output_type": "display_data"
    },
    {
     "data": {
      "image/svg+xml": [
       "<?xml version=\"1.0\" encoding=\"UTF-8\" standalone=\"no\"?>\n",
       "<!DOCTYPE svg PUBLIC \"-//W3C//DTD SVG 1.1//EN\"\n",
       " \"http://www.w3.org/Graphics/SVG/1.1/DTD/svg11.dtd\">\n",
       "<!-- Generated by graphviz version 12.2.0 (20241103.1931)\n",
       " -->\n",
       "<!-- Pages: 1 -->\n",
       "<svg width=\"118pt\" height=\"116pt\"\n",
       " viewBox=\"0.00 0.00 118.40 116.00\" xmlns=\"http://www.w3.org/2000/svg\" xmlns:xlink=\"http://www.w3.org/1999/xlink\">\n",
       "<g id=\"graph0\" class=\"graph\" transform=\"scale(1 1) rotate(0) translate(4 112)\">\n",
       "<polygon fill=\"white\" stroke=\"none\" points=\"-4,4 -4,-112 114.4,-112 114.4,4 -4,4\"/>\n",
       "<!-- 0 -->\n",
       "<g id=\"node1\" class=\"node\">\n",
       "<title>0</title>\n",
       "<polygon fill=\"#f5d0b5\" stroke=\"black\" stroke-width=\"1.2\" points=\"110.4,-108 0,-108 0,0 110.4,0 110.4,-108\"/>\n",
       "<text text-anchor=\"middle\" x=\"55.2\" y=\"-97.55\" font-family=\"trebuchet\" font-size=\"11.00\">Majority LS: []</text>\n",
       "<text text-anchor=\"middle\" x=\"55.2\" y=\"-85.55\" font-family=\"trebuchet\" font-size=\"11.00\">Classifier: adaptive</text>\n",
       "<text text-anchor=\"middle\" x=\"55.2\" y=\"-73.55\" font-family=\"trebuchet\" font-size=\"11.00\">\tP(HDF) = 0.0</text>\n",
       "<text text-anchor=\"middle\" x=\"55.2\" y=\"-61.55\" font-family=\"trebuchet\" font-size=\"11.00\">\tP(OSF) = 0.0</text>\n",
       "<text text-anchor=\"middle\" x=\"55.2\" y=\"-49.55\" font-family=\"trebuchet\" font-size=\"11.00\">\tP(PWF) = 0.0</text>\n",
       "<text text-anchor=\"middle\" x=\"55.2\" y=\"-37.55\" font-family=\"trebuchet\" font-size=\"11.00\">\tP(RNF) = 0.0</text>\n",
       "<text text-anchor=\"middle\" x=\"55.2\" y=\"-25.55\" font-family=\"trebuchet\" font-size=\"11.00\">\tP(TWF) = 0.0</text>\n",
       "<text text-anchor=\"middle\" x=\"55.2\" y=\"-13.55\" font-family=\"trebuchet\" font-size=\"11.00\">\tP(empty) = 1.0</text>\n",
       "<text text-anchor=\"middle\" x=\"55.2\" y=\"-1.55\" font-family=\"trebuchet\" font-size=\"11.00\">samples: 29589</text>\n",
       "</g>\n",
       "</g>\n",
       "</svg>\n"
      ],
      "text/plain": [
       "<graphviz.graphs.Digraph at 0x15b6cc3d0>"
      ]
     },
     "metadata": {},
     "output_type": "display_data"
    }
   ],
   "source": [
    "for i, tree in enumerate(model):\n",
    "    print(f'Tree {i}')\n",
    "    display(tree.model.summary)\n",
    "    display(tree.model.to_dataframe())\n",
    "    display(tree.model.draw())"
   ]
  }
 ],
 "metadata": {
  "kernelspec": {
   "display_name": "mlhat",
   "language": "python",
   "name": "python3"
  },
  "language_info": {
   "codemirror_mode": {
    "name": "ipython",
    "version": 3
   },
   "file_extension": ".py",
   "mimetype": "text/x-python",
   "name": "python",
   "nbconvert_exporter": "python",
   "pygments_lexer": "ipython3",
   "version": "3.10.11"
  }
 },
 "nbformat": 4,
 "nbformat_minor": 2
}
