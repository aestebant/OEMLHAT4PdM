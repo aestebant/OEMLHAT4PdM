{
 "cells": [
  {
   "cell_type": "markdown",
   "metadata": {},
   "source": [
    "# OEMLHAT - Tutorial of execution\n",
    "\n",
    "This notebook shows the necessary steps to load and run the model OEMLHAT, together with the three predictive maintenance problems of multi-label classification studied in this work."
   ]
  },
  {
   "cell_type": "markdown",
   "metadata": {},
   "source": [
    "## Defining the execution environment\n",
    "\n",
    "OEMLHAT and its associated experimentation have been programmed in Python language, using mainly the [River](https://riverml.xyz) library for online learning. The complete specification for creating the environment of execution is under the file [environment.yml](environment.yml), that can be used together with [Conda](https://conda.io/projects/conda/en/latest/user-guide/tasks/manage-environments.html#creating-an-environment-from-an-environment-yml-file)."
   ]
  },
  {
   "cell_type": "code",
   "execution_count": null,
   "metadata": {
    "vscode": {
     "languageId": "shellscript"
    }
   },
   "outputs": [],
   "source": [
    "conda env create -f environment.yml"
   ]
  },
  {
   "cell_type": "markdown",
   "metadata": {},
   "source": [
    "## Declaring the learning model"
   ]
  },
  {
   "cell_type": "code",
   "execution_count": 1,
   "metadata": {},
   "outputs": [
    {
     "data": {
      "text/html": [
       "<div><details class=\"river-component river-estimator\"><summary class=\"river-summary\"><pre class=\"river-estimator-name\">OEMLHAT</pre></summary><code class=\"river-estimator-params\">OEMLHAT (\n",
       "  ens=\"SRP\"\n",
       "  n_models=10\n",
       "  grace_period=65\n",
       "  delta=0.000738\n",
       "  cardinality_th=640\n",
       "  drift_window_threshold=250\n",
       "  poisson_rate=4\n",
       "  switch_significance=0.019\n",
       "  seed=1\n",
       ")\n",
       "</code></details><style scoped>\n",
       ".river-estimator {\n",
       "    padding: 1em;\n",
       "    border-style: solid;\n",
       "    background: white;\n",
       "    max-width: max-content;\n",
       "}\n",
       "\n",
       ".river-pipeline {\n",
       "    display: flex;\n",
       "    flex-direction: column;\n",
       "    align-items: center;\n",
       "    background: linear-gradient(#000, #000) no-repeat center / 1.5px 100%;\n",
       "}\n",
       "\n",
       ".river-union {\n",
       "    display: flex;\n",
       "    flex-direction: row;\n",
       "    align-items: center;\n",
       "    justify-content: center;\n",
       "    padding: 1em;\n",
       "    border-style: solid;\n",
       "    background: white;\n",
       "}\n",
       "\n",
       ".river-wrapper {\n",
       "    display: flex;\n",
       "    flex-direction: column;\n",
       "    align-items: center;\n",
       "    justify-content: center;\n",
       "    padding: 1em;\n",
       "    border-style: solid;\n",
       "    background: white;\n",
       "}\n",
       "\n",
       ".river-wrapper > .river-estimator {\n",
       "    margin-top: 1em;\n",
       "}\n",
       "\n",
       "/* Vertical spacing between steps */\n",
       "\n",
       ".river-component + .river-component {\n",
       "    margin-top: 2em;\n",
       "}\n",
       "\n",
       ".river-union > .river-estimator {\n",
       "    margin-top: 0;\n",
       "}\n",
       "\n",
       ".river-union > .river-component {\n",
       "    margin-top: 0;\n",
       "}\n",
       "\n",
       ".river-union > .pipeline {\n",
       "    margin-top: 0;\n",
       "}\n",
       "\n",
       "/* Spacing within a union of estimators */\n",
       "\n",
       ".river-union > .river-component + .river-component {\n",
       "    margin-left: 1em;\n",
       "}\n",
       "\n",
       "/* Typography */\n",
       "\n",
       ".river-estimator-params {\n",
       "    display: block;\n",
       "    white-space: pre-wrap;\n",
       "    font-size: 110%;\n",
       "    margin-top: 1em;\n",
       "}\n",
       "\n",
       ".river-estimator > .river-estimator-params,\n",
       ".river-wrapper > .river-details > river-estimator-params {\n",
       "    background-color: white !important;\n",
       "}\n",
       "\n",
       ".river-wrapper > .river-details {\n",
       "    margin-bottom: 1em;\n",
       "}\n",
       "\n",
       ".river-estimator-name {\n",
       "    display: inline;\n",
       "    margin: 0;\n",
       "    font-size: 110%;\n",
       "}\n",
       "\n",
       "/* Toggle */\n",
       "\n",
       ".river-summary {\n",
       "    display: flex;\n",
       "    align-items:center;\n",
       "    cursor: pointer;\n",
       "}\n",
       "\n",
       ".river-summary > div {\n",
       "    width: 100%;\n",
       "}\n",
       "</style></div>"
      ],
      "text/plain": [
       "OEMLHAT (\n",
       "  ens=\"SRP\"\n",
       "  n_models=10\n",
       "  grace_period=65\n",
       "  delta=0.000738\n",
       "  cardinality_th=640\n",
       "  drift_window_threshold=250\n",
       "  poisson_rate=4\n",
       "  switch_significance=0.019\n",
       "  seed=1\n",
       ")"
      ]
     },
     "execution_count": 1,
     "metadata": {},
     "output_type": "execute_result"
    }
   ],
   "source": [
    "from oemlhat import OEMLHAT\n",
    "\n",
    "model = OEMLHAT(ens='SRP', n_models=10, grace_period=65, delta=7.38e-4, cardinality_th=640, drift_window_threshold=250, poisson_rate=4, switch_significance=0.019)\n",
    "model"
   ]
  },
  {
   "cell_type": "markdown",
   "metadata": {},
   "source": [
    "## Loading the predictive maintenance problem as a stream data"
   ]
  },
  {
   "cell_type": "code",
   "execution_count": 3,
   "metadata": {},
   "outputs": [
    {
     "data": {
      "text/plain": [
       "Condition Based Maintenance of Naval Propulsion Plants. Data have been generated from a sophisticated simulator of a Gas Turbines (GT), mounted on a Frigate characterized by a COmbined Diesel eLectric And Gas (CODLAG) propulsion plant type.\n",
       "\n",
       "Source: https://www.andreacoraddu.me/github-dataset/open-dataset\n",
       "\n",
       "    Name  NPS                               \n",
       "    Task  Multi-output binary classification\n",
       " Samples  65,473                            \n",
       "Features  23                                \n",
       " Outputs  4                                 \n",
       "  Sparse  False                             \n",
       "    Path  ../datasets/nps_sp15.csv          "
      ]
     },
     "execution_count": 3,
     "metadata": {},
     "output_type": "execute_result"
    }
   ],
   "source": [
    "from datasets.multioutput.nps import NPS\n",
    "\n",
    "stream = NPS()\n",
    "stream"
   ]
  },
  {
   "cell_type": "code",
   "execution_count": 4,
   "metadata": {},
   "outputs": [
    {
     "data": {
      "text/plain": [
       "{'GTT': 24683.0,\n",
       " 'GT_rpm': 1924.8,\n",
       " 'CPP_T_stbd': 168.15,\n",
       " 'CPP_T_port': 168.15,\n",
       " 'Q_port': 281840.0,\n",
       " 'rpm_port': 84.289,\n",
       " 'Q_stdb': 281840.0,\n",
       " 'rpm_stbd': 84.289,\n",
       " 'T48': 699.01,\n",
       " 'GG_rpm': 8560.2,\n",
       " 'mf': 0.51479,\n",
       " 'ABB_Tic': 26.221,\n",
       " 'P2': 11.545,\n",
       " 'T2': 637.42,\n",
       " 'Pext': 1.0279,\n",
       " 'P48': 2.1933,\n",
       " 'TCS_tic': 26.003,\n",
       " 'Kt_stbd': 0.17317,\n",
       " 'rps_prop_stbd': 1.4048,\n",
       " 'Kt_port': 0.17317,\n",
       " 'rps_prop_port': 1.4048,\n",
       " 'Q_prop_port': 252740.0,\n",
       " 'Q_prop_stbd': 252740.0}"
      ]
     },
     "execution_count": 4,
     "metadata": {},
     "output_type": "execute_result"
    }
   ],
   "source": [
    "x, y = next(iter(stream))\n",
    "x"
   ]
  },
  {
   "cell_type": "code",
   "execution_count": 5,
   "metadata": {},
   "outputs": [
    {
     "data": {
      "text/plain": [
       "{'PRP': True, 'HLL': False, 'GTC': False, 'GT': False}"
      ]
     },
     "execution_count": 5,
     "metadata": {},
     "output_type": "execute_result"
    }
   ],
   "source": [
    "y"
   ]
  }
 ],
 "metadata": {
  "kernelspec": {
   "display_name": "mlhat",
   "language": "python",
   "name": "python3"
  },
  "language_info": {
   "codemirror_mode": {
    "name": "ipython",
    "version": 3
   },
   "file_extension": ".py",
   "mimetype": "text/x-python",
   "name": "python",
   "nbconvert_exporter": "python",
   "pygments_lexer": "ipython3",
   "version": "3.10.11"
  }
 },
 "nbformat": 4,
 "nbformat_minor": 2
}
